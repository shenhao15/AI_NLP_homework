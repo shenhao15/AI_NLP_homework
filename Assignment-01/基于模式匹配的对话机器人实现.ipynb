{
 "cells": [
  {
   "cell_type": "code",
   "execution_count": 1,
   "metadata": {},
   "outputs": [],
   "source": [
    "def is_variable(pat):\n",
    "    return pat.startswith('?') and all(s.isalpha() for s in pat[1:])\n"
   ]
  },
  {
   "cell_type": "code",
   "execution_count": 2,
   "metadata": {},
   "outputs": [],
   "source": [
    "def pat_match(pattern, saying):\n",
    "    if is_variable(pattern[0]): return True\n",
    "    else:\n",
    "        if pattern[0] != saying[0]: return False\n",
    "        else:\n",
    "            return pat_match(pattern[1:], saying[1:])"
   ]
  },
  {
   "cell_type": "code",
   "execution_count": 4,
   "metadata": {},
   "outputs": [
    {
     "data": {
      "text/plain": [
       "True"
      ]
     },
     "execution_count": 4,
     "metadata": {},
     "output_type": "execute_result"
    }
   ],
   "source": [
    "pat_match('I dreamed about ?X'.split(), \"I dreamed about dog and cat\".split())"
   ]
  },
  {
   "cell_type": "code",
   "execution_count": 8,
   "metadata": {},
   "outputs": [
    {
     "data": {
      "text/plain": [
       "True"
      ]
     },
     "execution_count": 8,
     "metadata": {},
     "output_type": "execute_result"
    }
   ],
   "source": [
    "is_variable('?')"
   ]
  },
  {
   "cell_type": "code",
   "execution_count": 9,
   "metadata": {},
   "outputs": [],
   "source": [
    "def pat_match(pattern, saying):\n",
    "    if not pattern or not saying: return []\n",
    "    \n",
    "    if is_variable(pattern[0]):\n",
    "        return [(pattern[0], saying[0])] + pat_match(pattern[1:], saying[1:])\n",
    "    else:\n",
    "        if pattern[0] != saying[0]: return []\n",
    "        else:\n",
    "            return pat_match(pattern[1:], saying[1:])"
   ]
  },
  {
   "cell_type": "code",
   "execution_count": 12,
   "metadata": {},
   "outputs": [
    {
     "data": {
      "text/plain": [
       "[('?X', '3')]"
      ]
     },
     "execution_count": 12,
     "metadata": {},
     "output_type": "execute_result"
    }
   ],
   "source": [
    "pat_match(\"?X e greater than ?Y and ?z\".split(), \"3 greater than 2 and w 1\".split())"
   ]
  },
  {
   "cell_type": "code",
   "execution_count": 13,
   "metadata": {},
   "outputs": [],
   "source": [
    "def pat_to_dict(patterns):\n",
    "    return {k: v for k, v in patterns}"
   ]
  },
  {
   "cell_type": "code",
   "execution_count": 15,
   "metadata": {},
   "outputs": [],
   "source": [
    "test=pat_to_dict([('?X', 'iPhone')])"
   ]
  },
  {
   "cell_type": "code",
   "execution_count": 18,
   "metadata": {},
   "outputs": [
    {
     "data": {
      "text/plain": [
       "'iPhone'"
      ]
     },
     "execution_count": 18,
     "metadata": {},
     "output_type": "execute_result"
    }
   ],
   "source": [
    "test.get('?X', '?X')"
   ]
  },
  {
   "cell_type": "code",
   "execution_count": 20,
   "metadata": {},
   "outputs": [],
   "source": [
    "rules = {\n",
    "    \"I need ?X\": [\"Image you will get ?X soon\", \"Why do you need ?X ?\"], \n",
    "    \"My ?X told me something\": [\"Talk about more about your ?X\", \"How do you think about your ?X ?\"]\n",
    "}"
   ]
  },
  {
   "cell_type": "code",
   "execution_count": 21,
   "metadata": {},
   "outputs": [],
   "source": [
    "saying='I need iPhone'"
   ]
  },
  {
   "cell_type": "code",
   "execution_count": 22,
   "metadata": {},
   "outputs": [],
   "source": [
    "def pat_match(pattern, saying):\n",
    "    if not pattern or not saying: return []\n",
    "    \n",
    "    if is_variable(pattern[0]):\n",
    "        return [(pattern[0], saying[0])] + pat_match(pattern[1:], saying[1:])\n",
    "    else:\n",
    "        if pattern[0] != saying[0]: return []\n",
    "        else:\n",
    "            return pat_match(pattern[1:], saying[1:])"
   ]
  },
  {
   "cell_type": "code",
   "execution_count": 24,
   "metadata": {},
   "outputs": [
    {
     "data": {
      "text/plain": [
       "[]"
      ]
     },
     "execution_count": 24,
     "metadata": {},
     "output_type": "execute_result"
    }
   ],
   "source": [
    "pat_match(\"My ?X told me something\".split(), \"'I need iPhone'\".split())"
   ]
  },
  {
   "cell_type": "code",
   "execution_count": 25,
   "metadata": {},
   "outputs": [],
   "source": [
    "def pat_to_dict(patterns):\n",
    "    return {k: v for k, v in patterns}"
   ]
  },
  {
   "cell_type": "code",
   "execution_count": 26,
   "metadata": {},
   "outputs": [],
   "source": [
    "def subsitite(rule, parsed_rules):\n",
    "    if not rule: return []\n",
    "    \n",
    "    return [parsed_rules.get(rule[0], rule[0])] + subsitite(rule[1:], parsed_rules)"
   ]
  },
  {
   "cell_type": "code",
   "execution_count": 49,
   "metadata": {},
   "outputs": [],
   "source": [
    "def get_response(saying, rules=rules):\n",
    "    for k,v in rules.items():\n",
    "        if  pat_match(k.split(),saying.split()):\n",
    "            candidate=random.choice(v)\n",
    "            return ' '.join(subsitite(candidate.split(), pat_to_dict(pat_match(k.split(),saying.split()))))\n",
    "    "
   ]
  },
  {
   "cell_type": "code",
   "execution_count": 35,
   "metadata": {},
   "outputs": [],
   "source": [
    "import random"
   ]
  },
  {
   "cell_type": "code",
   "execution_count": 44,
   "metadata": {},
   "outputs": [
    {
     "data": {
      "text/plain": [
       "'Why do you need iPhone ?'"
      ]
     },
     "execution_count": 44,
     "metadata": {},
     "output_type": "execute_result"
    }
   ],
   "source": [
    " get_response('I need iPhone') "
   ]
  },
  {
   "cell_type": "code",
   "execution_count": 55,
   "metadata": {},
   "outputs": [
    {
     "data": {
      "text/plain": [
       "'Talk about more about your mother'"
      ]
     },
     "execution_count": 55,
     "metadata": {},
     "output_type": "execute_result"
    }
   ],
   "source": [
    "get_response('My mother told me something')"
   ]
  },
  {
   "cell_type": "code",
   "execution_count": 56,
   "metadata": {},
   "outputs": [],
   "source": [
    "import random\n",
    "\n",
    "def is_variable(pat):\n",
    "    return pat.startswith('?') and all(s.isalpha() for s in pat[1:])\n",
    "\n",
    "def is_pattern_segment(pattern):\n",
    "    return pattern.startswith('?*') and all(a.isalpha() for a in pattern[2:])\n",
    "\n",
    "fail = [True, None]\n",
    "\n",
    "def pat_match_with_seg(pattern, saying):\n",
    "    if not pattern or not saying: return []\n",
    "    \n",
    "    pat = pattern[0]\n",
    "    \n",
    "    if is_variable(pat):\n",
    "        return [(pat, saying[0])] + pat_match_with_seg(pattern[1:], saying[1:])\n",
    "    elif is_pattern_segment(pat):\n",
    "        match, index = segment_match(pattern, saying)\n",
    "        return [match] + pat_match_with_seg(pattern[1:], saying[index:])\n",
    "    elif pat == saying[0]:\n",
    "        return pat_match_with_seg(pattern[1:], saying[1:])\n",
    "    else:\n",
    "        return fail\n",
    "\n",
    "def segment_match(pattern, saying):\n",
    "    seg_pat, rest = pattern[0], pattern[1:]\n",
    "    seg_pat = seg_pat.replace('?*', '?')\n",
    "\n",
    "    if not rest: return (seg_pat, saying), len(saying)    \n",
    "    \n",
    "    for i, token in enumerate(saying):\n",
    "        if rest[0] == token and is_match(rest[1:], saying[(i + 1):]):\n",
    "            return (seg_pat, saying[:i]), i\n",
    "    \n",
    "    return (seg_pat, saying), len(saying)\n",
    "\n",
    "def is_match(rest, saying):\n",
    "    if not rest and not saying:\n",
    "        return True\n",
    "    if not all(a.isalpha() for a in rest[0]):\n",
    "        return True\n",
    "    if rest[0] != saying[0]:\n",
    "        return False\n",
    "    return is_match(rest[1:], saying[1:])\n",
    "\n",
    "def pat_to_dict(patterns):\n",
    "    return {k: ' '.join(v) if isinstance(v, list) else v for k, v in patterns}\n",
    "\n",
    "def subsitite(rule, parsed_rules):\n",
    "    if not rule: return []    \n",
    "    return [parsed_rules.get(rule[0], rule[0])] + subsitite(rule[1:], parsed_rules)\n",
    "\n",
    "rules = {\n",
    "    \"?X hello ?*Y\": [\"Hi, how do you do?\"],\n",
    "    \"I was ?*X\": [\"Were you really ?X ?\", \"I already knew you were ?X .\"]\n",
    "}\n",
    "\n",
    "\n",
    "def get_response(saying, rules):\n",
    "    for k,v in rules.items():\n",
    "        match_result=pat_match_with_seg(k.split(),saying.split())\n",
    "        if True not in  match_result :  # 需改进\n",
    "            candidate=random.choice(v)\n",
    "            return ' '.join(subsitite(candidate.split(), pat_to_dict(match_result)))\n"
   ]
  },
  {
   "cell_type": "code",
   "execution_count": 66,
   "metadata": {},
   "outputs": [
    {
     "data": {
      "text/plain": [
       "'I already knew you were xiao ming .'"
      ]
     },
     "execution_count": 66,
     "metadata": {},
     "output_type": "execute_result"
    }
   ],
   "source": [
    "get_response(\"I was xiao ming\",rules )"
   ]
  },
  {
   "cell_type": "code",
   "execution_count": 67,
   "metadata": {},
   "outputs": [],
   "source": [
    "import random\n",
    "import jieba\n",
    "\n",
    "def cut_str(string):\n",
    "    return list(jieba.cut(string))\n",
    "\n",
    "def cut(str):\n",
    "    result=[]\n",
    "    for s in str:\n",
    "        if u'\\u4e00' <= s <= u'\\u9fff':\n",
    "            for cuted in cut_str(s):\n",
    "                result.append(cuted)\n",
    "        else:\n",
    "            result.append(s)\n",
    "    return   result\n",
    "\n",
    "\n",
    "def is_variable(pat):\n",
    "    return pat.startswith('?') and all(s.isalpha() for s in pat[1:])\n",
    "\n",
    "def is_pattern_segment(pattern):\n",
    "    return pattern.startswith('?*') and all(a.isalpha() for a in pattern[2:])\n",
    "\n",
    "fail = [True, None]\n",
    "\n",
    "def pat_match_with_seg(pattern, saying):\n",
    "    if not pattern or not saying: return []\n",
    "    \n",
    "    pat = pattern[0]\n",
    "    \n",
    "    if is_variable(pat):\n",
    "        return [(pat, saying[0])] + pat_match_with_seg(pattern[1:], saying[1:])\n",
    "    elif is_pattern_segment(pat):\n",
    "        match, index = segment_match(pattern, saying)\n",
    "        return [match] + pat_match_with_seg(pattern[1:], saying[index:])\n",
    "    elif pat == saying[0]:\n",
    "        return pat_match_with_seg(pattern[1:], saying[1:])\n",
    "    else:\n",
    "        return fail\n",
    "\n",
    "def segment_match(pattern, saying):\n",
    "    seg_pat, rest = pattern[0], pattern[1:]\n",
    "    seg_pat = seg_pat.replace('?*', '?')\n",
    "\n",
    "    if not rest: return (seg_pat, saying), len(saying)    \n",
    "    \n",
    "    for i, token in enumerate(saying):\n",
    "        if rest[0] == token and is_match(rest[1:], saying[(i + 1):]):\n",
    "            return (seg_pat, saying[:i]), i\n",
    "    \n",
    "    return (seg_pat, saying), len(saying)\n",
    "\n",
    "def is_match(rest, saying):\n",
    "    if not rest and not saying:\n",
    "        return True\n",
    "    if not all(a.isalpha() for a in rest[0]):\n",
    "        return True\n",
    "    if rest[0] != saying[0]:\n",
    "        return False\n",
    "    return is_match(rest[1:], saying[1:])\n",
    "\n",
    "def pat_to_dict(patterns):\n",
    "    return {k: ' '.join(v) if isinstance(v, list) else v for k, v in patterns}\n",
    "\n",
    "def subsitite(rule, parsed_rules):\n",
    "    if not rule: return []    \n",
    "    return [parsed_rules.get(rule[0], rule[0])] + subsitite(rule[1:], parsed_rules)\n",
    "\n",
    "def get_response_chinese(saying, rules):\n",
    "    for k,v in rules.items():\n",
    "        k_cut=cut(k.split())\n",
    "        saying_cut=cut(saying.split())\n",
    "        match_result=pat_match_with_seg(cut(k.split()),cut(saying.split()))\n",
    "        if True not in  match_result :  # 需改进\n",
    "            candidate=random.choice(v)\n",
    "            return ''.join(subsitite(cut(candidate.split()), pat_to_dict(match_result)))\n",
    "\n",
    "rules = {\n",
    "    '?x 你好 ?*y': ['你好呀', '请告诉我你的问题'],\n",
    "    '?x 我想 ?*y': ['你觉得 ?y 有什么意义呢？', '为什么你想 ?y ', '你可以想想你很快就可以 ?y 了'],\n",
    "    '?x 我想要 ?*y': ['?x 想问你，你觉得 ?y 有什么意义呢?', '为什么你想 ?y ', '?x 觉得... 你可以想想你很快就可以有 ?y 了', '你看?x 像 ?y 不', '我看你就像 ?y '],\n",
    "    '?x 喜欢 ?*y': ['喜欢 ?y 的哪里？', ' ?y 有什么好的呢？', '你想要 ?y 吗？'],\n",
    "    '?x 讨厌 ?*y': [' ?y 怎么会那么讨厌呢?', '讨厌 ?y 的哪里？', ' ?y 有什么不好呢？', '你不想要 ?y 吗？'],\n",
    "    '?x AI ?*y': ['你为什么要提AI的事情？', '你为什么觉得AI要解决你的问题？'],\n",
    "    '?x 机器人 ?*y': ['你为什么要提机器人的事情？', '你为什么觉得机器人要解决你的问题？'],\n",
    "    '?x 对不起 ?*y': ['不用道歉', '你为什么觉得你需要道歉呢?'],\n",
    "    '?x 我记得 ?*y': ['你经常会想起这个吗？', '除了 ?y 你还会想起什么吗？', '你为什么和我提起 ?y '],\n",
    "    '?x 如果 ?*y': ['你真的觉得 ?y 会发生吗？', '你希望 ?y 吗?', '真的吗？如果 ?y 的话', '关于 ?y 你怎么想？'],\n",
    "    '?x 我?*z梦见 ?*y':['真的吗? ---  ?y ', '你在醒着的时候，以前想象过 ?y 吗？', '你以前梦见过 ?y 吗'],\n",
    "    '?x 妈妈 ?*y': ['你家里除了 ?y 还有谁?', '嗯嗯，多说一点和你家里有关系的', '她对你影响很大吗？'],\n",
    "    '?x 爸爸 ?*y': ['你家里除了 ?y 还有谁?', '嗯嗯，多说一点和你家里有关系的', '他对你影响很大吗？', '每当你想起你爸爸的时候， 你还会想起其他的吗?'],\n",
    "    '?x 我愿意 ?*y': ['我可以帮你 ?y 吗？', '你可以解释一下，为什么想 ?y '],\n",
    "    '?x 我很难过，因为 ?*y': ['我听到你这么说， 也很难过', ' ?y 不应该让你这么难过的'],\n",
    "    '?x 难过 ?*y': ['我听到你这么说， 也很难过',\n",
    "                 '不应该让你这么难过的，你觉得你拥有什么，就会不难过?',\n",
    "                 '你觉得事情变成什么样，你就不难过了?'],\n",
    "    '?x 就像 ?*y': ['你觉得?x 和 ?y 有什么相似性？', '?x 和 ?y 真的有关系吗？', '怎么说？'],\n",
    "    '?x 和 ?*y都?*z': ['你觉得?z有什么问题吗?', '?z会对你有什么影响呢?'],\n",
    "    '?x 和 ?*y一样?*z': ['你觉得?z有什么问题吗?', '?z会对你有什么影响呢?'],\n",
    "    '?x 我是 ?*y': ['真的吗？', '?x 想告诉你，或许我早就知道你是 ?y ', '你为什么现在才告诉我你是 ?y '],\n",
    "    '?x 我是 ?*y吗': ['如果你是 ?y 会怎么样呢？', '你觉得你是 ?y 吗', '如果你是 ?y ，那一位着什么?'],\n",
    "    '?x 你是 ?*y吗':  ['你为什么会对我是不是 ?y 感兴趣?', '那你希望我是 ?y 吗', '你要是喜欢， 我就会是 ?y '],\n",
    "    '?x 你是 ?*y' : ['为什么你觉得我是 ?y '],\n",
    "    '?x 因为 ?*y' : [' ?y 是真正的原因吗？', '你觉得会有其他原因吗?'],\n",
    "    '?x 我不能 ?*y': ['你或许现在就能 ?*y', '如果你能 ?*y,会怎样呢？'],\n",
    "    '?x 我觉得 ?*y': ['你经常这样感觉吗？', '除了到这个，你还有什么其他的感觉吗？'],\n",
    "    '?x 我 ?*y你?*z': ['其实很有可能我们互相 ?y '],\n",
    "    '?x 你为什么不 ?*y': ['你自己为什么不 ?y ', '你觉得我不会 ?y ', '等我心情好了，我就 ?y '],\n",
    "    '?x 好的 ?*y': ['好的', '你是一个很正能量的人'],\n",
    "    '?x 嗯嗯 ?*y': ['好的', '你是一个很正能量的人'],\n",
    "    '?x 不嘛 ?*y': ['为什么不？', '你有一点负能量', '你说 不，是想表达不想的意思吗？'],\n",
    "    '?x 不要 ?*y': ['为什么不？', '你有一点负能量', '你说 不，是想表达不想的意思吗？'],\n",
    "    '?x 有些人 ?*y': ['具体是哪些人呢?'],\n",
    "    '?x 有的人 ?*y': ['具体是哪些人呢?'],\n",
    "    '?x 某些人 ?*y': ['具体是哪些人呢?'],\n",
    "    '?x 每个人 ?*y': ['我确定不是人人都是', '你能想到一点特殊情况吗？', '例如谁？', '你看到的其实只是一小部分人'],\n",
    "    '?x 所有人 ?*y': ['我确定不是人人都是', '你能想到一点特殊情况吗？', '例如谁？', '你看到的其实只是一小部分人'],\n",
    "    '?x 总是 ?*y': ['你能想到一些其他情况吗?', '例如什么时候?', '你具体是说哪一次？', '真的---总是吗？'],\n",
    "    '?x 一直 ?*y': ['你能想到一些其他情况吗?', '例如什么时候?', '你具体是说哪一次？', '真的---总是吗？'],\n",
    "    '?x 或许 ?*y': ['你看起来不太确定'],\n",
    "    '?x 可能 ?*y': ['你看起来不太确定'],\n",
    "    '?x 他们是 ?*y吗？': ['你觉得他们可能不是 ?y ？'],\n",
    "    '?x ': ['很有趣', '请继续', '我不太确定我很理解你说的, 能稍微详细解释一下吗?']\n",
    "}\n"
   ]
  },
  {
   "cell_type": "code",
   "execution_count": 68,
   "metadata": {},
   "outputs": [
    {
     "name": "stderr",
     "output_type": "stream",
     "text": [
      "Building prefix dict from the default dictionary ...\n",
      "Loading model from cache C:\\Users\\sdm\\AppData\\Local\\Temp\\jieba.cache\n",
      "Loading model cost 0.759 seconds.\n",
      "Prefix dict has been built succesfully.\n"
     ]
    },
    {
     "data": {
      "text/plain": [
       "'苹果有什么好的呢？'"
      ]
     },
     "execution_count": 68,
     "metadata": {},
     "output_type": "execute_result"
    }
   ],
   "source": [
    "get_response_chinese(\"我喜欢苹果\",rules)"
   ]
  }
 ],
 "metadata": {
  "kernelspec": {
   "display_name": "Python 3",
   "language": "python",
   "name": "python3"
  },
  "language_info": {
   "codemirror_mode": {
    "name": "ipython",
    "version": 3
   },
   "file_extension": ".py",
   "mimetype": "text/x-python",
   "name": "python",
   "nbconvert_exporter": "python",
   "pygments_lexer": "ipython3",
   "version": "3.7.3"
  }
 },
 "nbformat": 4,
 "nbformat_minor": 2
}
