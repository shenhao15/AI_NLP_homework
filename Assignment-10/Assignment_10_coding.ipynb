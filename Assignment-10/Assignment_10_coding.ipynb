{
 "cells": [
  {
   "cell_type": "code",
   "execution_count": 1,
   "metadata": {},
   "outputs": [],
   "source": [
    "import pandas as pd\n",
    "import os\n",
    "from sklearn.model_selection import train_test_split"
   ]
  },
  {
   "cell_type": "code",
   "execution_count": 2,
   "metadata": {},
   "outputs": [],
   "source": [
    "path='D:/Github/AIClass/datasource_lecutre/datasource/export_sql_1558435/'"
   ]
  },
  {
   "cell_type": "code",
   "execution_count": 4,
   "metadata": {},
   "outputs": [],
   "source": [
    "news = pd.read_csv(path+'sqlResult_1558435.csv',encoding='utf-8')"
   ]
  },
  {
   "cell_type": "code",
   "execution_count": 6,
   "metadata": {},
   "outputs": [
    {
     "data": {
      "text/plain": [
       "89611"
      ]
     },
     "execution_count": 6,
     "metadata": {},
     "output_type": "execute_result"
    }
   ],
   "source": [
    "news.shape[0]"
   ]
  },
  {
   "cell_type": "code",
   "execution_count": 7,
   "metadata": {},
   "outputs": [
    {
     "data": {
      "text/html": [
       "<div>\n",
       "<style scoped>\n",
       "    .dataframe tbody tr th:only-of-type {\n",
       "        vertical-align: middle;\n",
       "    }\n",
       "\n",
       "    .dataframe tbody tr th {\n",
       "        vertical-align: top;\n",
       "    }\n",
       "\n",
       "    .dataframe thead th {\n",
       "        text-align: right;\n",
       "    }\n",
       "</style>\n",
       "<table border=\"1\" class=\"dataframe\">\n",
       "  <thead>\n",
       "    <tr style=\"text-align: right;\">\n",
       "      <th></th>\n",
       "      <th>id</th>\n",
       "      <th>author</th>\n",
       "      <th>source</th>\n",
       "      <th>content</th>\n",
       "      <th>feature</th>\n",
       "      <th>title</th>\n",
       "      <th>url</th>\n",
       "      <th>label</th>\n",
       "    </tr>\n",
       "  </thead>\n",
       "  <tbody>\n",
       "    <tr>\n",
       "      <th>0</th>\n",
       "      <td>89617</td>\n",
       "      <td>NaN</td>\n",
       "      <td>快科技@http://www.kkj.cn/</td>\n",
       "      <td>此外，自本周（6月12日）起，除小米手机6等15款机型外，其余机型已暂停更新发布（含开发版/...</td>\n",
       "      <td>{\"type\":\"科技\",\"site\":\"cnbeta\",\"commentNum\":\"37\"...</td>\n",
       "      <td>小米MIUI 9首批机型曝光：共计15款</td>\n",
       "      <td>http://www.cnbeta.com/articles/tech/623597.htm</td>\n",
       "      <td>0</td>\n",
       "    </tr>\n",
       "    <tr>\n",
       "      <th>1</th>\n",
       "      <td>89616</td>\n",
       "      <td>NaN</td>\n",
       "      <td>快科技@http://www.kkj.cn/</td>\n",
       "      <td>骁龙835作为唯一通过Windows 10桌面平台认证的ARM处理器，高通强调，不会因为只考...</td>\n",
       "      <td>{\"type\":\"科技\",\"site\":\"cnbeta\",\"commentNum\":\"15\"...</td>\n",
       "      <td>骁龙835在Windows 10上的性能表现有望改善</td>\n",
       "      <td>http://www.cnbeta.com/articles/tech/623599.htm</td>\n",
       "      <td>0</td>\n",
       "    </tr>\n",
       "    <tr>\n",
       "      <th>2</th>\n",
       "      <td>89615</td>\n",
       "      <td>NaN</td>\n",
       "      <td>快科技@http://www.kkj.cn/</td>\n",
       "      <td>此前的一加3T搭载的是3400mAh电池，DashCharge快充规格为5V/4A。\\r\\n...</td>\n",
       "      <td>{\"type\":\"科技\",\"site\":\"cnbeta\",\"commentNum\":\"18\"...</td>\n",
       "      <td>一加手机5细节曝光：3300mAh、充半小时用1天</td>\n",
       "      <td>http://www.cnbeta.com/articles/tech/623601.htm</td>\n",
       "      <td>0</td>\n",
       "    </tr>\n",
       "    <tr>\n",
       "      <th>3</th>\n",
       "      <td>89614</td>\n",
       "      <td>NaN</td>\n",
       "      <td>新华社</td>\n",
       "      <td>这是6月18日在葡萄牙中部大佩德罗冈地区拍摄的被森林大火烧毁的汽车。新华社记者张立云摄\\r\\n</td>\n",
       "      <td>{\"type\":\"国际新闻\",\"site\":\"环球\",\"commentNum\":\"0\",\"j...</td>\n",
       "      <td>葡森林火灾造成至少62人死亡 政府宣布进入紧急状态（组图）</td>\n",
       "      <td>http://world.huanqiu.com/hot/2017-06/10866126....</td>\n",
       "      <td>1</td>\n",
       "    </tr>\n",
       "    <tr>\n",
       "      <th>4</th>\n",
       "      <td>89613</td>\n",
       "      <td>胡淑丽_MN7479</td>\n",
       "      <td>深圳大件事</td>\n",
       "      <td>（原标题：44岁女子跑深圳约会网友被拒，暴雨中裸身奔走……）\\r\\n@深圳交警微博称：昨日清...</td>\n",
       "      <td>{\"type\":\"新闻\",\"site\":\"网易热门\",\"commentNum\":\"978\",...</td>\n",
       "      <td>44岁女子约网友被拒暴雨中裸奔 交警为其披衣相随</td>\n",
       "      <td>http://news.163.com/17/0618/00/CN617P3Q0001875...</td>\n",
       "      <td>0</td>\n",
       "    </tr>\n",
       "  </tbody>\n",
       "</table>\n",
       "</div>"
      ],
      "text/plain": [
       "      id      author                  source  \\\n",
       "0  89617         NaN  快科技@http://www.kkj.cn/   \n",
       "1  89616         NaN  快科技@http://www.kkj.cn/   \n",
       "2  89615         NaN  快科技@http://www.kkj.cn/   \n",
       "3  89614         NaN                     新华社   \n",
       "4  89613  胡淑丽_MN7479                   深圳大件事   \n",
       "\n",
       "                                             content  \\\n",
       "0  此外，自本周（6月12日）起，除小米手机6等15款机型外，其余机型已暂停更新发布（含开发版/...   \n",
       "1  骁龙835作为唯一通过Windows 10桌面平台认证的ARM处理器，高通强调，不会因为只考...   \n",
       "2  此前的一加3T搭载的是3400mAh电池，DashCharge快充规格为5V/4A。\\r\\n...   \n",
       "3    这是6月18日在葡萄牙中部大佩德罗冈地区拍摄的被森林大火烧毁的汽车。新华社记者张立云摄\\r\\n   \n",
       "4  （原标题：44岁女子跑深圳约会网友被拒，暴雨中裸身奔走……）\\r\\n@深圳交警微博称：昨日清...   \n",
       "\n",
       "                                             feature  \\\n",
       "0  {\"type\":\"科技\",\"site\":\"cnbeta\",\"commentNum\":\"37\"...   \n",
       "1  {\"type\":\"科技\",\"site\":\"cnbeta\",\"commentNum\":\"15\"...   \n",
       "2  {\"type\":\"科技\",\"site\":\"cnbeta\",\"commentNum\":\"18\"...   \n",
       "3  {\"type\":\"国际新闻\",\"site\":\"环球\",\"commentNum\":\"0\",\"j...   \n",
       "4  {\"type\":\"新闻\",\"site\":\"网易热门\",\"commentNum\":\"978\",...   \n",
       "\n",
       "                           title  \\\n",
       "0           小米MIUI 9首批机型曝光：共计15款   \n",
       "1     骁龙835在Windows 10上的性能表现有望改善   \n",
       "2      一加手机5细节曝光：3300mAh、充半小时用1天   \n",
       "3  葡森林火灾造成至少62人死亡 政府宣布进入紧急状态（组图）   \n",
       "4       44岁女子约网友被拒暴雨中裸奔 交警为其披衣相随   \n",
       "\n",
       "                                                 url  label  \n",
       "0     http://www.cnbeta.com/articles/tech/623597.htm      0  \n",
       "1     http://www.cnbeta.com/articles/tech/623599.htm      0  \n",
       "2     http://www.cnbeta.com/articles/tech/623601.htm      0  \n",
       "3  http://world.huanqiu.com/hot/2017-06/10866126....      1  \n",
       "4  http://news.163.com/17/0618/00/CN617P3Q0001875...      0  "
      ]
     },
     "execution_count": 7,
     "metadata": {},
     "output_type": "execute_result"
    }
   ],
   "source": [
    "import re\n",
    "is_xinhuaAgency = [1 if len(re.findall(r'新华社', str(news.iloc[x]['source']))) > 0 else 0 for x in range(news.shape[0])]\n",
    "news['label'] = is_xinhuaAgency\n",
    "news.head()"
   ]
  },
  {
   "cell_type": "code",
   "execution_count": 8,
   "metadata": {},
   "outputs": [
    {
     "name": "stderr",
     "output_type": "stream",
     "text": [
      "Building prefix dict from the default dictionary ...\n",
      "Dumping model to file cache C:\\Users\\sdm\\AppData\\Local\\Temp\\jieba.cache\n",
      "Loading model cost 0.900 seconds.\n",
      "Prefix dict has been built succesfully.\n"
     ]
    }
   ],
   "source": [
    "from gensim.models.doc2vec import Doc2Vec, TaggedDocument\n",
    "import jieba\n",
    "news_tagged = [TaggedDocument(jieba.lcut(str(news.iloc[x]['content']), cut_all=False),[news.iloc[x]['id']])\\\n",
    "                 for x in range(news.shape[0])]"
   ]
  },
  {
   "cell_type": "code",
   "execution_count": 9,
   "metadata": {},
   "outputs": [
    {
     "data": {
      "text/plain": [
       "[TaggedDocument(words=['此外', '，', '自', '本周', '（', '6', '月', '12', '日', '）', '起', '，', '除', '小米', '手机', '6', '等', '15', '款', '机型', '外', '，', '其余', '机型', '已', '暂停', '更新', '发布', '（', '含', '开发', '版', '/', '体验版', '内测', '，', '稳定版', '暂不受', '影响', '）', '，', '以', '确保', '工程师', '可以', '集中', '全部', '精力', '进行', '系统优化', '工作', '。', '有人', '猜测', '这', '也', '是', '将', '精力', '主要', '用到', 'MIUI', ' ', '9', '的', '研发', '之中', '。', '\\r\\n', 'MIUI', ' ', '8', '去年', '5', '月', '发布', '，', '距今已有', '一年', '有余', '，', '也', '是', '时候', '更新换代', '了', '。', '\\r\\n', '当然', '，', '关于', 'MIUI', ' ', '9', '的', '确切', '信息', '，', '我们', '还是', '等待', '官方消息', '。', '\\r\\n'], tags=[89617]),\n",
       " TaggedDocument(words=['骁龙', '835', '作为', '唯一', '通过', 'Windows', ' ', '10', '桌面', '平台', '认证', '的', 'ARM', '处理器', '，', '高通', '强调', '，', '不会', '因为', '只', '考虑', '性能', '而', '去', '屏蔽掉', '小', '核心', '。', '相反', '，', '他们', '正', '联手', '微软', '，', '找到', '一种', '适合', '桌面', '平台', '的', '、', '兼顾', '性能', '和', '功耗', '的', '完美', '方案', '。', '\\r\\n', '报道', '称', '，', '微软', '已经', '拿到', '了', '一些', '新', '的', '源码', '，', '以便', 'Windows', ' ', '10', '更好', '地', '理解', 'big', '.', 'little', '架构', '。', '\\r\\n', '资料', '显示', '，', '骁龙', '835', '作为', '一款', '集成', '了', 'CPU', '、', 'GPU', '、', '基带', '、', '蓝牙', '/', 'Wi', '-', 'Fi', '的', 'SoC', '，', '比', '传统', '的', 'Wintel', '方案', '可以', '节省', '至少', '30%', '的', 'PCB', '空间', '。', '\\r\\n', '按计划', '，', '今年', 'Q4', '，', '华硕', '、', '惠普', '、', '联想', '将', '首发', '骁龙', '835', ' ', 'Win10', '电脑', '，', '预计', '均', '是', '二合一', '形态', '的', '产品', '。', '\\r\\n', '当然', '，', '高通', '骁龙', '只是', '个', '开始', '，', '未来', '也许', '还', '能', '见到', '三星', 'Exynos', '、', '联发科', '、', '华为', '麒麟', '、', '小米', '澎湃', '等', '进入', 'Windows', ' ', '10', '桌面', '平台', '。', '\\r\\n'], tags=[89616]),\n",
       " TaggedDocument(words=['此前', '的', '一加', '3T', '搭载', '的', '是', '3400mAh', '电池', '，', 'DashCharge', '快充', '规格', '为', '5V', '/', '4A', '。', '\\r\\n', '至于', '电池', '缩水', '，', '可能', '与', '刘作', '虎', '所说', '，', '一加', '手机', '5', '要', '做', '市面', '最', '轻薄', '大屏', '旗舰', '的', '设定', '有关', '。', '\\r\\n', '按照', '目前', '掌握', '的', '资料', '，', '一加', '手机', '5', '拥有', '5.5', '寸', '1080P', '三星', 'AMOLED', '显示屏', '、', '6G', '/', '8GB', ' ', 'RAM', '，', '64GB', '/', '128GB', ' ', 'ROM', '，', '双', '1600', '万', '摄像头', '，', '备货', '量', '“', '惊喜', '”', '。', '\\r\\n', '根据', '京东', '泄露', '的', '信息', '，', '一加', '5', '起', '售价', '是', 'xx99', '元', '，', '应该', '是', '在', '2799', '/', '2899', '/', '2999', '中', '的', '某个', '。', '\\r\\n'], tags=[89615])]"
      ]
     },
     "execution_count": 9,
     "metadata": {},
     "output_type": "execute_result"
    }
   ],
   "source": [
    "news_tagged[:3]"
   ]
  },
  {
   "cell_type": "code",
   "execution_count": 11,
   "metadata": {},
   "outputs": [],
   "source": [
    "import multiprocessing\n",
    "model = Doc2Vec(news_tagged, vector_size=100, workers = multiprocessing.cpu_count())"
   ]
  },
  {
   "cell_type": "code",
   "execution_count": 13,
   "metadata": {},
   "outputs": [
    {
     "name": "stdout",
     "output_type": "stream",
     "text": [
      "[ 0.12045509 -0.2772601  -0.02690748  0.3001812  -0.22085443  0.09142381\n",
      " -0.35839924 -0.0585203   0.25550357  0.01683759  0.15159789  0.00492576\n",
      " -0.02375304 -0.0049313   0.13672562  0.03363952  0.12542392  0.20380668\n",
      "  0.07518575  0.26414058 -0.17280224 -0.29611474  0.11103313  0.04877952\n",
      " -0.00694645 -0.23391905 -0.07550139 -0.01376942 -0.15265378 -0.06156757\n",
      "  0.07293627 -0.31448394  0.00871409  0.01963553  0.08589853 -0.08867522\n",
      "  0.18562514 -0.02125612 -0.27557373  0.07755356  0.27985522  0.07729336\n",
      "  0.05983615 -0.41029406  0.20965116  0.20096366  0.09758635  0.00663406\n",
      " -0.04657421 -0.23908183  0.05440111 -0.17568368  0.14200222 -0.1511369\n",
      " -0.18712482  0.02273025  0.13530168  0.02743545 -0.14802015 -0.00996444\n",
      "  0.08740143 -0.1388291   0.21584629  0.09422719  0.10214749 -0.05724267\n",
      " -0.01557247 -0.12712513 -0.15117322  0.11991658 -0.11473115  0.2217389\n",
      "  0.2725951   0.08959322  0.27310938  0.07304131  0.04393626  0.02964813\n",
      "  0.0419438  -0.2588414   0.03462519  0.12536983  0.06234054 -0.2281458\n",
      "  0.05258205  0.06564348  0.16212839  0.03936442  0.01425195 -0.16312629\n",
      "  0.10787074  0.05954598  0.0339625   0.0802515  -0.05874846  0.06651552\n",
      "  0.01559681  0.20223168 -0.17823933  0.10296228]\n",
      "骁龙835作为唯一通过Windows 10桌面平台认证的ARM处理器，高通强调，不会因为只考虑性能而去屏蔽掉小核心。相反，他们正联手微软，找到一种适合桌面平台的、兼顾性能和功耗的完美方案。\r\n",
      "报道称，微软已经拿到了一些新的源码，以便Windows 10更好地理解big.little架构。\r\n",
      "资料显示，骁龙835作为一款集成了CPU、GPU、基带、蓝牙/Wi-Fi的SoC，比传统的Wintel方案可以节省至少30%的PCB空间。\r\n",
      "按计划，今年Q4，华硕、惠普、联想将首发骁龙835 Win10电脑，预计均是二合一形态的产品。\r\n",
      "当然，高通骁龙只是个开始，未来也许还能见到三星Exynos、联发科、华为麒麟、小米澎湃等进入Windows 10桌面平台。\r\n",
      "\n"
     ]
    }
   ],
   "source": [
    "print(model.docvecs[news.iloc[1]['id']])\n",
    "print(news.iloc[1]['content'])"
   ]
  },
  {
   "cell_type": "code",
   "execution_count": 15,
   "metadata": {},
   "outputs": [],
   "source": [
    "# add sentence vector to corresponding row\n",
    "def add_sentence_vector_to_csv(csv, Model):\n",
    "    sentence_vector = [Model.docvecs[csv.iloc[x]['id']] for x in range(csv.shape[0])]\n",
    "    csv_vector = csv\n",
    "    csv_vector['vector'] = sentence_vector   \n",
    "    return csv_vector\n",
    "\n",
    "news_vector = add_sentence_vector_to_csv(news, model)"
   ]
  },
  {
   "cell_type": "code",
   "execution_count": 17,
   "metadata": {},
   "outputs": [
    {
     "name": "stdout",
     "output_type": "stream",
     "text": [
      "(71688, 9)\n",
      "(17923, 9)\n"
     ]
    }
   ],
   "source": [
    "train_data, test_data = train_test_split(news_vector, test_size=0.2, random_state=1000)\n",
    "print(train_data.shape)\n",
    "print(test_data.shape)\n",
    "train_X, train_Y = train_data['vector'], train_data['label']\n",
    "test_X, test_Y = test_data['vector'], test_data['label']\n",
    "\n",
    "# change dataset structure\n",
    "train_X = [train_X.iloc[x] for x in range(train_X.shape[0])]\n",
    "train_Y = [train_Y.iloc[x] for x in range(train_Y.shape[0])]\n",
    "\n",
    "test_X = [test_X.iloc[x] for x in range(test_X.shape[0])]\n",
    "test_Y = [test_Y.iloc[x] for x in range(test_Y.shape[0])]"
   ]
  },
  {
   "cell_type": "markdown",
   "metadata": {},
   "source": [
    "Using XGBoost"
   ]
  },
  {
   "cell_type": "code",
   "execution_count": 26,
   "metadata": {},
   "outputs": [
    {
     "data": {
      "text/plain": [
       "XGBClassifier(base_score=0.5, booster='gbtree', colsample_bylevel=1,\n",
       "              colsample_bynode=1, colsample_bytree=1, gamma=0,\n",
       "              learning_rate=0.1, max_delta_step=0, max_depth=3,\n",
       "              min_child_weight=1, missing=None, n_estimators=100, n_jobs=1,\n",
       "              nthread=None, objective='binary:logistic', random_state=0,\n",
       "              reg_alpha=0, reg_lambda=1, scale_pos_weight=1, seed=None,\n",
       "              silent=None, subsample=1, verbosity=1)"
      ]
     },
     "execution_count": 26,
     "metadata": {},
     "output_type": "execute_result"
    }
   ],
   "source": [
    "## XGBoost\n",
    "import numpy as np\n",
    "from xgboost import XGBClassifier\n",
    "XGB = XGBClassifier()\n",
    "XGB.fit(np.array(train_X), np.array(train_Y))"
   ]
  },
  {
   "cell_type": "code",
   "execution_count": 27,
   "metadata": {},
   "outputs": [],
   "source": [
    "# PR-curve\n",
    "from sklearn.metrics import precision_recall_curve\n",
    "from sklearn.metrics import auc\n",
    "from sklearn.metrics import f1_score\n",
    "import matplotlib.pyplot as plt"
   ]
  },
  {
   "cell_type": "code",
   "execution_count": 28,
   "metadata": {},
   "outputs": [],
   "source": [
    "y_pred_XGB = XGB.predict(np.array(test_X))\n",
    "y_pred_XGB_prob = XGB.predict_proba(np.array(test_X))"
   ]
  },
  {
   "cell_type": "code",
   "execution_count": 31,
   "metadata": {},
   "outputs": [
    {
     "data": {
      "text/plain": [
       "0.9208279863862077"
      ]
     },
     "execution_count": 31,
     "metadata": {},
     "output_type": "execute_result"
    }
   ],
   "source": [
    "accuracy_XGB = sum([1 if test_Y[x] == y_pred_XGB[x] else 0 for x in range(len(test_Y))]) / len(test_Y)\n",
    "accuracy_XGB"
   ]
  },
  {
   "cell_type": "code",
   "execution_count": 37,
   "metadata": {},
   "outputs": [
    {
     "name": "stdout",
     "output_type": "stream",
     "text": [
      "AUPR =  0.9875081779949257\n",
      "F1 Score =  0.9565510272819131\n"
     ]
    },
    {
     "data": {
      "image/png": "[encoded data removed]",
      "text/plain": [
       "<Figure size 432x288 with 1 Axes>"
      ]
     },
     "metadata": {
      "needs_background": "light"
     },
     "output_type": "display_data"
    }
   ],
   "source": [
    "precision_XGB, recall_XGB, _ = precision_recall_curve(test_Y, y_pred_XGB_prob[:,1])\n",
    "AUPR_XGB = auc(recall_XGB, precision_XGB)\n",
    "print('AUPR = ', AUPR_XGB)\n",
    "F1_score_XGB = f1_score(test_Y, y_pred_XGB)\n",
    "print('F1 Score = ', F1_score_XGB)\n",
    "plt.plot(recall_XGB, precision_XGB, lw=2, label='XGBoost: ' + str(np.round(AUPR_XGB, 4)))\n",
    "plt.xlabel('Recall')\n",
    "plt.ylabel('Precision')\n",
    "plt.legend(loc='best')\n",
    "plt.title('Precision-Recall Curve')\n",
    "plt.show()"
   ]
  },
  {
   "cell_type": "markdown",
   "metadata": {},
   "source": [
    "Using lightgbm"
   ]
  },
  {
   "cell_type": "code",
   "execution_count": 39,
   "metadata": {},
   "outputs": [
    {
     "data": {
      "text/plain": [
       "LGBMClassifier(boosting_type='gbdt', class_weight=None, colsample_bytree=1.0,\n",
       "               importance_type='split', learning_rate=0.1, max_bin=150,\n",
       "               max_depth=11, min_child_samples=20, min_child_weight=0.001,\n",
       "               min_split_gain=0.0, n_estimators=300, n_jobs=-1, num_leaves=32,\n",
       "               objective='regression', random_state=None, reg_alpha=0.0,\n",
       "               reg_lambda=0.0, silent=True, subsample=1.0,\n",
       "               subsample_for_bin=200000, subsample_freq=0)"
      ]
     },
     "execution_count": 39,
     "metadata": {},
     "output_type": "execute_result"
    }
   ],
   "source": [
    "import lightgbm as lgb\n",
    "lgb_params = {\n",
    "    'learning_rate':0.1,\n",
    "    'max_bin':150,\n",
    "    'num_leaves':32,    \n",
    "    'max_depth':11,  \n",
    "    'objective':'regression',\n",
    "    'n_estimators':300\n",
    "}\n",
    "model_lightgbm=lgb.LGBMClassifier(**lgb_params)\n",
    "\n",
    "model_lightgbm.fit(np.array(train_X), np.array(train_Y))"
   ]
  },
  {
   "cell_type": "code",
   "execution_count": 40,
   "metadata": {},
   "outputs": [],
   "source": [
    "y_pred_lightgbm = model_lightgbm.predict(np.array(test_X))\n",
    "y_pred_lightgbm_prob = model_lightgbm.predict_proba(np.array(test_X))"
   ]
  },
  {
   "cell_type": "code",
   "execution_count": 41,
   "metadata": {},
   "outputs": [
    {
     "data": {
      "text/plain": [
       "0.9396306421915974"
      ]
     },
     "execution_count": 41,
     "metadata": {},
     "output_type": "execute_result"
    }
   ],
   "source": [
    "accuracy_lightgbm = sum([1 if test_Y[x] == y_pred_lightgbm[x] else 0 for x in range(len(test_Y))]) / len(test_Y)\n",
    "accuracy_lightgbm"
   ]
  },
  {
   "cell_type": "code",
   "execution_count": 42,
   "metadata": {},
   "outputs": [
    {
     "name": "stdout",
     "output_type": "stream",
     "text": [
      "AUPR =  0.9923782425621155\n",
      "F1 Score =  0.966547118476379\n"
     ]
    },
    {
     "data": {
      "image/png": "[encoded data removed]",
      "text/plain": [
       "<Figure size 432x288 with 1 Axes>"
      ]
     },
     "metadata": {
      "needs_background": "light"
     },
     "output_type": "display_data"
    }
   ],
   "source": [
    "precision_lightgbm, recall_lightgbm, _ = precision_recall_curve(test_Y, y_pred_lightgbm_prob[:,1])\n",
    "AUPR_lightgbm = auc(recall_lightgbm, precision_lightgbm)\n",
    "print('AUPR = ', AUPR_lightgbm)\n",
    "F1_score_lightgbm = f1_score(test_Y, y_pred_lightgbm)\n",
    "print('F1 Score = ', F1_score_lightgbm)\n",
    "plt.plot(recall_lightgbm, precision_lightgbm, lw=2, label='lightgbm: ' + str(np.round(AUPR_lightgbm, 4)))\n",
    "plt.xlabel('Recall')\n",
    "plt.ylabel('Precision')\n",
    "plt.legend(loc='best')\n",
    "plt.title('Precision-Recall Curve')\n",
    "plt.show()"
   ]
  },
  {
   "cell_type": "markdown",
   "metadata": {},
   "source": [
    "Using Naive Bayes"
   ]
  },
  {
   "cell_type": "code",
   "execution_count": 45,
   "metadata": {},
   "outputs": [
    {
     "data": {
      "text/plain": [
       "GaussianNB(priors=None, var_smoothing=1e-09)"
      ]
     },
     "execution_count": 45,
     "metadata": {},
     "output_type": "execute_result"
    }
   ],
   "source": [
    "from sklearn.naive_bayes import GaussianNB\n",
    "\n",
    "gnb = GaussianNB()\n",
    "gnb.fit(train_X, train_Y)"
   ]
  },
  {
   "cell_type": "code",
   "execution_count": 46,
   "metadata": {},
   "outputs": [],
   "source": [
    "y_pred_NB = gnb.predict(test_X)\n",
    "y_pred_NB_prob = gnb.predict_proba(test_X)"
   ]
  },
  {
   "cell_type": "code",
   "execution_count": 47,
   "metadata": {},
   "outputs": [
    {
     "data": {
      "text/plain": [
       "0.7917759303687999"
      ]
     },
     "execution_count": 47,
     "metadata": {},
     "output_type": "execute_result"
    }
   ],
   "source": [
    "accuracy_NB = sum([1 if test_Y[x] == y_pred_NB[x] else 0 for x in range(len(test_Y))]) / len(test_Y)\n",
    "accuracy_NB"
   ]
  },
  {
   "cell_type": "code",
   "execution_count": 48,
   "metadata": {},
   "outputs": [
    {
     "name": "stdout",
     "output_type": "stream",
     "text": [
      "AUPR =  0.9522651001863647\n",
      "F1 Score =  0.8760956175298805\n"
     ]
    },
    {
     "data": {
      "image/png": "[encoded data removed]",
      "text/plain": [
       "<Figure size 432x288 with 1 Axes>"
      ]
     },
     "metadata": {
      "needs_background": "light"
     },
     "output_type": "display_data"
    }
   ],
   "source": [
    "precision_NB, recall_NB, _ = precision_recall_curve(test_Y, y_pred_NB_prob[:,1])\n",
    "AUPR_NB = auc(recall_NB, precision_NB)\n",
    "print('AUPR = ', AUPR_NB)\n",
    "F1_score_NB = f1_score(test_Y, y_pred_NB)\n",
    "print('F1 Score = ', F1_score_NB)\n",
    "plt.plot(recall_NB, precision_NB, lw=2, label='NB: ' + str(np.round(AUPR_NB, 4)))\n",
    "plt.xlabel('Recall')\n",
    "plt.ylabel('Precision')\n",
    "plt.legend(loc='best')\n",
    "plt.title('Precision-Recall Curve')\n",
    "plt.show()"
   ]
  },
  {
   "cell_type": "markdown",
   "metadata": {},
   "source": [
    "Using SVM"
   ]
  },
  {
   "cell_type": "code",
   "execution_count": 49,
   "metadata": {},
   "outputs": [
    {
     "name": "stderr",
     "output_type": "stream",
     "text": [
      "C:\\ProgramData\\Anaconda3\\lib\\site-packages\\sklearn\\svm\\base.py:193: FutureWarning: The default value of gamma will change from 'auto' to 'scale' in version 0.22 to account better for unscaled features. Set gamma explicitly to 'auto' or 'scale' to avoid this warning.\n",
      "  \"avoid this warning.\", FutureWarning)\n"
     ]
    },
    {
     "data": {
      "text/plain": [
       "SVC(C=1.0, cache_size=200, class_weight=None, coef0=0.0,\n",
       "    decision_function_shape='ovr', degree=3, gamma='auto_deprecated',\n",
       "    kernel='rbf', max_iter=-1, probability=True, random_state=None,\n",
       "    shrinking=True, tol=0.001, verbose=False)"
      ]
     },
     "execution_count": 49,
     "metadata": {},
     "output_type": "execute_result"
    }
   ],
   "source": [
    "from sklearn.svm import SVC\n",
    "\n",
    "# train\n",
    "clf = SVC(probability=True)\n",
    "clf.fit(train_X, train_Y)"
   ]
  },
  {
   "cell_type": "code",
   "execution_count": 50,
   "metadata": {},
   "outputs": [],
   "source": [
    "y_pred = clf.predict(test_X)\n",
    "y_pred_prob = clf.predict_proba(test_X)"
   ]
  },
  {
   "cell_type": "code",
   "execution_count": 51,
   "metadata": {},
   "outputs": [
    {
     "data": {
      "text/plain": [
       "0.8894158344027228"
      ]
     },
     "execution_count": 51,
     "metadata": {},
     "output_type": "execute_result"
    }
   ],
   "source": [
    "accuracy = sum([1 if test_Y[x] == y_pred[x] else 0 for x in range(len(test_Y))]) / len(test_Y)\n",
    "accuracy"
   ]
  },
  {
   "cell_type": "code",
   "execution_count": 52,
   "metadata": {},
   "outputs": [
    {
     "name": "stdout",
     "output_type": "stream",
     "text": [
      "AUPR =  0.9729898785575574\n",
      "F1 Score =  0.9408534765741569\n"
     ]
    },
    {
     "data": {
      "image/png": "[encoded data removed]",
      "text/plain": [
       "<Figure size 432x288 with 1 Axes>"
      ]
     },
     "metadata": {
      "needs_background": "light"
     },
     "output_type": "display_data"
    }
   ],
   "source": [
    "precision, recall, _ = precision_recall_curve(test_Y, y_pred_prob[:,1])\n",
    "AUPR = auc(recall, precision)\n",
    "print('AUPR = ', AUPR)\n",
    "F1_score = f1_score(test_Y, y_pred)\n",
    "print('F1 Score = ', F1_score)\n",
    "plt.plot(recall, precision, lw=2, label='SVM: ' + str(np.round(AUPR, 4)))\n",
    "plt.xlabel('Recall')\n",
    "plt.ylabel('Precision')\n",
    "plt.legend(loc='best')\n",
    "plt.title('Precision-Recall Curve')\n",
    "plt.show()"
   ]
  },
  {
   "cell_type": "code",
   "execution_count": null,
   "metadata": {},
   "outputs": [],
   "source": []
  },
  {
   "cell_type": "code",
   "execution_count": 67,
   "metadata": {},
   "outputs": [
    {
     "data": {
      "text/plain": [
       "RandomForestClassifier(bootstrap=True, class_weight=None, criterion='gini',\n",
       "                       max_depth=5, max_features='auto', max_leaf_nodes=None,\n",
       "                       min_impurity_decrease=0.0, min_impurity_split=None,\n",
       "                       min_samples_leaf=1, min_samples_split=3,\n",
       "                       min_weight_fraction_leaf=0.0, n_estimators=100,\n",
       "                       n_jobs=None, oob_score=False, random_state=None,\n",
       "                       verbose=0, warm_start=False)"
      ]
     },
     "execution_count": 67,
     "metadata": {},
     "output_type": "execute_result"
    }
   ],
   "source": [
    "import sklearn.ensemble as se  # 集合算法模块\n",
    "model_RandomForest = se.RandomForestClassifier(max_depth=5, n_estimators=1000, min_samples_split=3)\n",
    "model_RandomForest.fit(train_X, train_Y)"
   ]
  },
  {
   "cell_type": "code",
   "execution_count": 78,
   "metadata": {},
   "outputs": [],
   "source": [
    "y_pred_RandomForest = model_RandomForest.predict(test_X)\n",
    "y_pred_RandomForest_prob = model_RandomForest.predict_proba(test_X)"
   ]
  },
  {
   "cell_type": "code",
   "execution_count": 72,
   "metadata": {},
   "outputs": [
    {
     "data": {
      "text/plain": [
       "0.9062098978965575"
      ]
     },
     "execution_count": 72,
     "metadata": {},
     "output_type": "execute_result"
    }
   ],
   "source": [
    "accuracy_RandomForest = sum([1 if test_Y[x] == y_pred_RandomForest[x] else 0 for x in range(len(test_Y))]) / len(test_Y)\n",
    "accuracy_RandomForest"
   ]
  },
  {
   "cell_type": "code",
   "execution_count": 73,
   "metadata": {},
   "outputs": [
    {
     "name": "stdout",
     "output_type": "stream",
     "text": [
      "AUPR =  0.9832660694297122\n",
      "F1 Score =  0.9493201483312731\n"
     ]
    },
    {
     "data": {
      "image/png": "[encoded data removed]",
      "text/plain": [
       "<Figure size 432x288 with 1 Axes>"
      ]
     },
     "metadata": {
      "needs_background": "light"
     },
     "output_type": "display_data"
    }
   ],
   "source": [
    "precision_RandomForest, recall_RandomForest, _ = precision_recall_curve(test_Y, y_pred_RandomForest_prob[:,1])\n",
    "AUPR_RandomForest = auc(recall_RandomForest, precision_RandomForest)\n",
    "print('AUPR = ', AUPR_RandomForest)\n",
    "F1_score_RandomForest = f1_score(test_Y, y_pred_RandomForest)\n",
    "print('F1 Score = ', F1_score_RandomForest)\n",
    "plt.plot(recall_NB, precision_NB, lw=2, label='RandomForest: ' + str(np.round(AUPR_RandomForest, 4)))\n",
    "plt.xlabel('Recall')\n",
    "plt.ylabel('Precision')\n",
    "plt.legend(loc='best')\n",
    "plt.title('Precision-Recall Curve')\n",
    "plt.show()"
   ]
  },
  {
   "cell_type": "markdown",
   "metadata": {},
   "source": [
    "总结"
   ]
  },
  {
   "cell_type": "code",
   "execution_count": 75,
   "metadata": {},
   "outputs": [
    {
     "data": {
      "image/png": "[encoded data removed]",
      "text/plain": [
       "<Figure size 432x288 with 1 Axes>"
      ]
     },
     "metadata": {
      "needs_background": "light"
     },
     "output_type": "display_data"
    }
   ],
   "source": [
    "# SVM\n",
    "plt.plot(recall, precision, lw=2, label='SVM: ' + str(np.round(AUPR, 4)))\n",
    "\n",
    "# Naive Bayes\n",
    "plt.plot(recall_NB, precision_NB, lw=2, label='NB: ' + str(np.round(AUPR_NB, 4)))\n",
    "\n",
    "# RandomForest\n",
    "plt.plot(recall_RandomForest, precision_RandomForest, lw=2, label='RandomForest: ' + str(np.round(AUPR_RandomForest, 4)))\n",
    "\n",
    "# Lightgbm\n",
    "plt.plot(recall_lightgbm, precision_lightgbm, lw=2, label='Lightgbm: ' + str(np.round(AUPR_lightgbm, 4)))\n",
    "\n",
    "# XGBoost\n",
    "plt.plot(recall_XGB, precision_XGB, lw=2, label='XGBoost: ' + str(np.round(AUPR_XGB, 4)))\n",
    "\n",
    "plt.xlabel('Recall')\n",
    "plt.ylabel('Precision')\n",
    "plt.legend(loc='best')\n",
    "plt.title('Precision-Recall Curve')\n",
    "\n",
    "plt.show()"
   ]
  },
  {
   "cell_type": "code",
   "execution_count": 76,
   "metadata": {},
   "outputs": [
    {
     "data": {
      "text/plain": [
       "Text(0.5, 1.0, 'Accuracy')"
      ]
     },
     "execution_count": 76,
     "metadata": {},
     "output_type": "execute_result"
    },
    {
     "data": {
      "image/png": "[encoded data removed]",
      "text/plain": [
       "<Figure size 432x288 with 1 Axes>"
      ]
     },
     "metadata": {
      "needs_background": "light"
     },
     "output_type": "display_data"
    }
   ],
   "source": [
    "## Accuracy\n",
    "%matplotlib inline\n",
    "plt.bar(['SVM','Naive Bayes','RandomForest','Lightgbm','XGBosst'],[accuracy, accuracy_NB,accuracy_RandomForest, accuracy_lightgbm, accuracy_XGB],color=[u'#1f77b4', u'#ff7f0e',u'#ffdc35', u'#2ca02c', u'#d62728'])\n",
    "plt.title('Accuracy')"
   ]
  },
  {
   "cell_type": "code",
   "execution_count": 77,
   "metadata": {},
   "outputs": [
    {
     "data": {
      "text/plain": [
       "Text(0.5, 1.0, 'F1 Score')"
      ]
     },
     "execution_count": 77,
     "metadata": {},
     "output_type": "execute_result"
    },
    {
     "data": {
      "image/png": "[encoded data removed]",
      "text/plain": [
       "<Figure size 432x288 with 1 Axes>"
      ]
     },
     "metadata": {
      "needs_background": "light"
     },
     "output_type": "display_data"
    }
   ],
   "source": [
    "\n",
    "## F1 score\n",
    "plt.bar(['SVM','Naive Bayes','RandomForest','Lightgbm','XGBosst'],[F1_score, F1_score_NB,F1_score_RandomForest, F1_score_lightgbm, F1_score_XGB],color=[u'#1f77b4', u'#ff7f0e',u'#ffdc35', u'#2ca02c', u'#d62728'])\n",
    "plt.title('F1 Score')"
   ]
  },
  {
   "cell_type": "markdown",
   "metadata": {},
   "source": [
    "结论"
   ]
  },
  {
   "cell_type": "markdown",
   "metadata": {},
   "source": [
    "通过AUPR、Accuracy、F1 score三个指标对比，Lightgbm效果最好，XGBosst次之，Naive Bayes最差。SVM方法训练速度特别慢，在数据量大、特征多的情况下，SVM方法需要慎重使用。"
   ]
  },
  {
   "cell_type": "code",
   "execution_count": null,
   "metadata": {},
   "outputs": [],
   "source": []
  },
  {
   "cell_type": "code",
   "execution_count": null,
   "metadata": {},
   "outputs": [],
   "source": []
  }
 ],
 "metadata": {
  "kernelspec": {
   "display_name": "Python 3",
   "language": "python",
   "name": "python3"
  },
  "language_info": {
   "codemirror_mode": {
    "name": "ipython",
    "version": 3
   },
   "file_extension": ".py",
   "mimetype": "text/x-python",
   "name": "python",
   "nbconvert_exporter": "python",
   "pygments_lexer": "ipython3",
   "version": "3.7.3"
  }
 },
 "nbformat": 4,
 "nbformat_minor": 2
}
