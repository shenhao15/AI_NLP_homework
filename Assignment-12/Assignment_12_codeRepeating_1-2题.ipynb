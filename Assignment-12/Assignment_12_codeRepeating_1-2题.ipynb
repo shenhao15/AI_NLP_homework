{
 "cells": [
  {
   "cell_type": "code",
   "execution_count": 4,
   "metadata": {},
   "outputs": [],
   "source": [
    "import gensim\n",
    "import pandas as pd\n",
    "import jieba\n",
    "import re\n",
    "import stanfordcorenlp\n",
    "import math\n",
    "import numpy as np\n",
    "import random"
   ]
  },
  {
   "cell_type": "code",
   "execution_count": null,
   "metadata": {},
   "outputs": [],
   "source": []
  },
  {
   "cell_type": "code",
   "execution_count": null,
   "metadata": {},
   "outputs": [],
   "source": []
  },
  {
   "cell_type": "code",
   "execution_count": null,
   "metadata": {},
   "outputs": [],
   "source": []
  },
  {
   "cell_type": "code",
   "execution_count": null,
   "metadata": {},
   "outputs": [],
   "source": []
  },
  {
   "cell_type": "code",
   "execution_count": 7,
   "metadata": {},
   "outputs": [],
   "source": [
    "path='D:/Github/AIClass/datasource_lecutre/datasource/export_sql_1558435/'"
   ]
  },
  {
   "cell_type": "code",
   "execution_count": 8,
   "metadata": {},
   "outputs": [],
   "source": [
    "data_source = path +\"sqlResult_1558435.csv\""
   ]
  },
  {
   "cell_type": "code",
   "execution_count": 9,
   "metadata": {},
   "outputs": [],
   "source": [
    "data = pd.read_csv(data_source,encoding='UTF-8')"
   ]
  },
  {
   "cell_type": "code",
   "execution_count": 10,
   "metadata": {},
   "outputs": [],
   "source": [
    "data = data.fillna('')"
   ]
  },
  {
   "cell_type": "code",
   "execution_count": 11,
   "metadata": {},
   "outputs": [],
   "source": [
    "def cut(string): return ' '.join(jieba.cut(string))"
   ]
  },
  {
   "cell_type": "code",
   "execution_count": 12,
   "metadata": {},
   "outputs": [
    {
     "name": "stderr",
     "output_type": "stream",
     "text": [
      "Building prefix dict from the default dictionary ...\n",
      "Dumping model to file cache C:\\Users\\sdm\\AppData\\Local\\Temp\\jieba.cache\n",
      "Loading model cost 2.082 seconds.\n",
      "Prefix dict has been built succesfully.\n"
     ]
    },
    {
     "data": {
      "text/plain": [
       "'你 今天 运动 了 吗'"
      ]
     },
     "execution_count": 12,
     "metadata": {},
     "output_type": "execute_result"
    }
   ],
   "source": [
    "cut(\"你今天运动了吗\")"
   ]
  },
  {
   "cell_type": "code",
   "execution_count": 13,
   "metadata": {},
   "outputs": [],
   "source": [
    "content = data['content'].tolist()"
   ]
  },
  {
   "cell_type": "code",
   "execution_count": 14,
   "metadata": {},
   "outputs": [],
   "source": [
    "def token(string):\n",
    "    return re.findall(r'[\\d|\\w]+',string)"
   ]
  },
  {
   "cell_type": "code",
   "execution_count": 15,
   "metadata": {},
   "outputs": [
    {
     "data": {
      "text/plain": [
       "['这是一个测试']"
      ]
     },
     "execution_count": 15,
     "metadata": {},
     "output_type": "execute_result"
    }
   ],
   "source": [
    "token(\"这是一个测试\\n\\n\\n\")"
   ]
  },
  {
   "cell_type": "code",
   "execution_count": 16,
   "metadata": {},
   "outputs": [],
   "source": [
    "news_content = [token(n) for n in content]"
   ]
  },
  {
   "cell_type": "code",
   "execution_count": 17,
   "metadata": {},
   "outputs": [],
   "source": [
    "news_content = [''.join(n) for n in news_content]"
   ]
  },
  {
   "cell_type": "code",
   "execution_count": 18,
   "metadata": {},
   "outputs": [],
   "source": [
    "news_content = [cut(n) for n in news_content]"
   ]
  },
  {
   "cell_type": "code",
   "execution_count": 19,
   "metadata": {},
   "outputs": [
    {
     "data": {
      "text/plain": [
       "['此外 自 本周 6 月 12 日起 除 小米 手机 6 等 15 款 机型 外 其余 机型 已 暂停 更新 发布 含 开发 版 体验版 内测 稳定版 暂不受 影响 以 确保 工程师 可以 集中 全部 精力 进行 系统优化 工作 有人 猜测 这 也 是 将 精力 主要 用到 MIUI9 的 研发 之中 MIUI8 去年 5 月 发布 距今已有 一年 有余 也 是 时候 更新换代 了 当然 关于 MIUI9 的 确切 信息 我们 还是 等待 官方消息',\n",
       " '骁龙 835 作为 唯一 通过 Windows10 桌面 平台 认证 的 ARM 处理器 高通 强调 不会 因为 只 考虑 性能 而 去 屏蔽掉 小 核心 相反 他们 正 联手 微软 找到 一种 适合 桌面 平台 的 兼顾 性能 和 功耗 的 完美 方案 报道 称 微软 已经 拿到 了 一些 新 的 源码 以便 Windows10 更好 地 理解 biglittle 架构 资料 显示 骁龙 835 作为 一款 集成 了 CPUGPU 基带 蓝牙 WiFi 的 SoC 比 传统 的 Wintel 方案 可以 节省 至少 30 的 PCB 空间 按计划 今年 Q4 华硕 惠普 联想 将 首发 骁龙 835Win10 电脑 预计 均 是 二合一 形态 的 产品 当然 高通 骁龙 只是 个 开始 未来 也许 还 能 见到 三星 Exynos 联发科 华为 麒麟 小米 澎湃 等 进入 Windows10 桌面 平台']"
      ]
     },
     "execution_count": 19,
     "metadata": {},
     "output_type": "execute_result"
    }
   ],
   "source": [
    "news_content[:2]"
   ]
  },
  {
   "cell_type": "code",
   "execution_count": 20,
   "metadata": {},
   "outputs": [
    {
     "data": {
      "text/plain": [
       "89611"
      ]
     },
     "execution_count": 20,
     "metadata": {},
     "output_type": "execute_result"
    }
   ],
   "source": [
    "len(news_content)"
   ]
  },
  {
   "cell_type": "code",
   "execution_count": 21,
   "metadata": {},
   "outputs": [],
   "source": [
    "def document_frequency(word):\n",
    "    return sum(1 for n in news_content if word in n)"
   ]
  },
  {
   "cell_type": "code",
   "execution_count": 22,
   "metadata": {},
   "outputs": [],
   "source": [
    "def idf(word):\n",
    "    return math.log10(len(news_content)/document_frequency(word))"
   ]
  },
  {
   "cell_type": "code",
   "execution_count": 23,
   "metadata": {},
   "outputs": [
    {
     "data": {
      "text/plain": [
       "0.1051466115514474"
      ]
     },
     "execution_count": 23,
     "metadata": {},
     "output_type": "execute_result"
    }
   ],
   "source": [
    "idf(\"的\")"
   ]
  },
  {
   "cell_type": "code",
   "execution_count": 25,
   "metadata": {},
   "outputs": [
    {
     "data": {
      "text/plain": [
       "2.6601052524359976"
      ]
     },
     "execution_count": 25,
     "metadata": {},
     "output_type": "execute_result"
    }
   ],
   "source": [
    "idf(\"京东\")"
   ]
  },
  {
   "cell_type": "code",
   "execution_count": 26,
   "metadata": {},
   "outputs": [],
   "source": [
    "def tf(word,document):\n",
    "    words = document.split()\n",
    "    return sum(1 for w in words if w==word)"
   ]
  },
  {
   "cell_type": "code",
   "execution_count": 28,
   "metadata": {},
   "outputs": [
    {
     "data": {
      "text/plain": [
       "1"
      ]
     },
     "execution_count": 28,
     "metadata": {},
     "output_type": "execute_result"
    }
   ],
   "source": [
    "tf(\"小米\",news_content[0])"
   ]
  },
  {
   "cell_type": "code",
   "execution_count": 29,
   "metadata": {},
   "outputs": [],
   "source": [
    "def tf_idf(word,document):\n",
    "    return tf(word,document)*idf(word)"
   ]
  },
  {
   "cell_type": "code",
   "execution_count": 30,
   "metadata": {},
   "outputs": [
    {
     "data": {
      "text/plain": [
       "0.2102932231028948"
      ]
     },
     "execution_count": 30,
     "metadata": {},
     "output_type": "execute_result"
    }
   ],
   "source": [
    "tf_idf(\"的\",news_content[0])"
   ]
  },
  {
   "cell_type": "code",
   "execution_count": 31,
   "metadata": {},
   "outputs": [],
   "source": [
    "def get_keywords_of_a_document(document):\n",
    "    words = set(document.split())\n",
    "    tfidf = [\n",
    "        (w,tf_idf(w,document)) for w in words\n",
    "    ]\n",
    "    tfidf = sorted(tfidf,key=lambda x: x[1],reverse=True)\n",
    "    return tfidf"
   ]
  },
  {
   "cell_type": "code",
   "execution_count": 33,
   "metadata": {},
   "outputs": [
    {
     "data": {
      "text/plain": [
       "[('一加', 14.083990238533945),\n",
       " ('279928992999', 4.9523613237924735),\n",
       " ('5V4A', 4.9523613237924735),\n",
       " ('DashCharge', 4.9523613237924735),\n",
       " ('xx99', 4.9523613237924735),\n",
       " ('3400mAh', 4.9523613237924735),\n",
       " ('6G8GBRAM64GB128GBROM', 4.9523613237924735),\n",
       " ('电池', 4.897141281470585),\n",
       " ('1080P', 4.651331328128492),\n",
       " ('刘作', 4.475240069072811),\n",
       " ('3T', 4.253391319456455),\n",
       " ('快充', 4.17421007340883),\n",
       " ('备货', 3.838417971485637),\n",
       " ('AMOLED', 3.776270064736792),\n",
       " ('轻薄', 3.7219124024142),\n",
       " ('手机', 3.4361943988273684),\n",
       " ('市面', 3.095028827361205),\n",
       " ('缩水', 3.0831296040614973),\n",
       " ('显示屏', 3.038547471408757),\n",
       " ('大屏', 2.9523613237924735),\n",
       " ('旗舰', 2.8554513107844173),\n",
       " ('某个', 2.7270520420666107),\n",
       " ('摄像头', 2.716832876884925),\n",
       " ('1600', 2.704388057430667),\n",
       " ('规格', 2.6828483795745575),\n",
       " ('京东', 2.6601052524359976),\n",
       " ('三星', 2.6556961335309426),\n",
       " ('泄露', 2.604056460744313),\n",
       " ('惊喜', 2.5526876023114355),\n",
       " ('所说', 2.513028629962211),\n",
       " ('售价', 2.4513020615747223),\n",
       " ('设定', 2.4312232400884373),\n",
       " ('寸', 2.3912599401434176),\n",
       " ('搭载', 2.366900594283973),\n",
       " ('至于', 2.246497611508554),\n",
       " ('虎', 1.9093922503992935),\n",
       " ('掌握', 1.8864083434786039),\n",
       " ('55', 1.793998831697224),\n",
       " ('资料', 1.761469606870304),\n",
       " ('应该', 1.6264353680210075),\n",
       " ('拥有', 1.5353881511894372),\n",
       " ('此前', 1.5297714839409915),\n",
       " ('按照', 1.4095358968332938),\n",
       " ('有关', 1.3155726347580987),\n",
       " ('信息', 1.2461557819105031),\n",
       " ('根据', 1.2232775667488618),\n",
       " ('是', 1.220828592124072),\n",
       " ('可能', 1.1455032942736563),\n",
       " ('双', 1.033178594749973),\n",
       " ('做', 0.9920332732623305),\n",
       " ('目前', 0.8934041450151632),\n",
       " ('元', 0.8486944100456819),\n",
       " ('5', 0.8267288801198045),\n",
       " ('万', 0.7883953408375901),\n",
       " ('量', 0.7714902721419299),\n",
       " ('起', 0.7202295824958537),\n",
       " ('最', 0.6400993178091264),\n",
       " ('的', 0.6308796693086844),\n",
       " ('要', 0.5780346496429134),\n",
       " ('与', 0.49074275983845767),\n",
       " ('为', 0.38692675348471445),\n",
       " ('中', 0.17187119251677352),\n",
       " ('在', 0.05497618542180724)]"
      ]
     },
     "execution_count": 33,
     "metadata": {},
     "output_type": "execute_result"
    }
   ],
   "source": [
    "get_keywords_of_a_document(news_content[2])"
   ]
  },
  {
   "cell_type": "code",
   "execution_count": 34,
   "metadata": {},
   "outputs": [
    {
     "data": {
      "text/plain": [
       "'此前 的 一加 3T 搭载 的 是 3400mAh 电池 DashCharge 快充 规格 为 5V4A 至于 电池 缩水 可能 与 刘作 虎 所说 一加 手机 5 要 做 市面 最 轻薄 大屏 旗舰 的 设定 有关 按照 目前 掌握 的 资料 一加 手机 5 拥有 55 寸 1080P 三星 AMOLED 显示屏 6G8GBRAM64GB128GBROM 双 1600 万 摄像头 备货 量 惊喜 根据 京东 泄露 的 信息 一加 5 起 售价 是 xx99 元 应该 是 在 279928992999 中 的 某个'"
      ]
     },
     "execution_count": 34,
     "metadata": {},
     "output_type": "execute_result"
    }
   ],
   "source": [
    "news_content[2]"
   ]
  },
  {
   "cell_type": "code",
   "execution_count": null,
   "metadata": {},
   "outputs": [],
   "source": []
  },
  {
   "cell_type": "code",
   "execution_count": 35,
   "metadata": {},
   "outputs": [],
   "source": [
    "from sklearn.feature_extraction.text import TfidfVectorizer"
   ]
  },
  {
   "cell_type": "code",
   "execution_count": 36,
   "metadata": {},
   "outputs": [],
   "source": [
    "vectorizer = TfidfVectorizer(max_features=10000)"
   ]
  },
  {
   "cell_type": "code",
   "execution_count": 37,
   "metadata": {},
   "outputs": [],
   "source": [
    "sample_num = 50000\n",
    "sub_samples = news_content[:sample_num]"
   ]
  },
  {
   "cell_type": "code",
   "execution_count": 38,
   "metadata": {},
   "outputs": [],
   "source": [
    "X = vectorizer.fit_transform(sub_samples)"
   ]
  },
  {
   "cell_type": "code",
   "execution_count": 39,
   "metadata": {},
   "outputs": [
    {
     "data": {
      "text/plain": [
       "10000"
      ]
     },
     "execution_count": 39,
     "metadata": {},
     "output_type": "execute_result"
    }
   ],
   "source": [
    "len(vectorizer.vocabulary_)"
   ]
  },
  {
   "cell_type": "code",
   "execution_count": 40,
   "metadata": {},
   "outputs": [
    {
     "data": {
      "text/plain": [
       "(array([0, 0, 0, 0, 0, 0, 0, 0, 0, 0, 0, 0, 0, 0, 0, 0, 0, 0, 0, 0, 0, 0,\n",
       "        0, 0, 0, 0, 0, 0, 0, 0, 0, 0, 0, 0, 0, 0, 0, 0, 0, 0, 0, 0, 0, 0,\n",
       "        0, 0, 0, 0, 0, 0, 0, 0, 0, 0, 0, 0, 0, 0, 0], dtype=int64),\n",
       " array([ 100,  281,  360,  372,  472,  578, 1008, 1162, 1244, 1269, 1285,\n",
       "        1380, 1462, 1886, 2435, 2754, 2760, 2989, 3067, 3353, 3800, 3990,\n",
       "        4173, 4272, 4429, 4497, 4521, 4529, 4595, 4658, 4961, 5037, 5104,\n",
       "        5136, 5550, 5717, 5771, 5899, 6035, 6081, 6710, 6971, 7072, 7217,\n",
       "        7506, 7986, 8025, 8026, 8137, 8207, 8479, 8558, 8799, 9127, 9196,\n",
       "        9252, 9637, 9744, 9824], dtype=int64))"
      ]
     },
     "execution_count": 40,
     "metadata": {},
     "output_type": "execute_result"
    }
   ],
   "source": [
    "np.where(X[1].toarray())  # find positions whose values is not zero "
   ]
  },
  {
   "cell_type": "code",
   "execution_count": 44,
   "metadata": {},
   "outputs": [
    {
     "data": {
      "text/plain": [
       "array([[0., 0., 0., ..., 0., 0., 0.]])"
      ]
     },
     "execution_count": 44,
     "metadata": {},
     "output_type": "execute_result"
    }
   ],
   "source": [
    "X[1].toarray()"
   ]
  },
  {
   "cell_type": "code",
   "execution_count": 45,
   "metadata": {},
   "outputs": [
    {
     "data": {
      "text/plain": [
       "1"
      ]
     },
     "execution_count": 45,
     "metadata": {},
     "output_type": "execute_result"
    }
   ],
   "source": [
    "len(X[1].toarray())"
   ]
  },
  {
   "cell_type": "code",
   "execution_count": 46,
   "metadata": {},
   "outputs": [],
   "source": [
    "document_1,document_2 = random.randint(0,1000),random.randint(0,1000)"
   ]
  },
  {
   "cell_type": "code",
   "execution_count": 47,
   "metadata": {},
   "outputs": [
    {
     "data": {
      "text/plain": [
       "'刘国梁 新华社 北京 6 月 20 日电 记者 从 中国乒乓球协会 获悉 国家乒乓球队 管理模式 将 进行 改革 不再 设 总 主教练 岗位 设置 设 男子 女子 两个 国家队教练组 一手 抓 竞技 训练 一手 抓 队伍 管理 两手抓 两手 都 要 硬 减少 管理层 级 推动 国家队 实现 扁平化 管理 提高 训练 备战 效率 和 效益 据悉 为 深化 体育 改革 创新 体制 机制 积极 应对 2020 东京 奥运会 新 的 挑战 实现 运动 成绩 和 精神文明 双丰收 中国乒乓球协会 根据 近 阶段 体育 社团 改革 的 需要 瞄准 国家队 建设 的 方向 针对 存在 的 一些 问题 和 薄弱环节 推出 了 系列 改革 措施 另一方面 积极 充分调动 和 发挥 人才 优势 进一步 突出 和 强化 协会 功能 经 中国乒乓球协会 代表大会 常务委员会 讨论 决定 刘国梁 担任 中国乒乓球协会 副 主席 同时 雷军 接替 刘晓农 担任 中国乒乓球协会 副 主席 兼 秘书长 据悉 针对 日前 广受 社会 关注 的 孔令辉 被 新加坡 一间 赌场 追债 一事 体育总局 乒乓球 羽毛球 运动 管理中心 党委 正在 根据 相关 规定 和 程序 对 相关 违纪 线索 进行 核实 并 将 依据 党规 党纪 做出 严肃处理 通过 此举 塑造 风清气 正 的 良好环境'"
      ]
     },
     "execution_count": 47,
     "metadata": {},
     "output_type": "execute_result"
    }
   ],
   "source": [
    "news_content[document_1]"
   ]
  },
  {
   "cell_type": "code",
   "execution_count": 48,
   "metadata": {},
   "outputs": [],
   "source": [
    "vector_of_document_1 = X[document_1].toarray()[0]"
   ]
  },
  {
   "cell_type": "code",
   "execution_count": 49,
   "metadata": {},
   "outputs": [],
   "source": [
    "vector_of_document_2 = X[document_2].toarray()[0]"
   ]
  },
  {
   "cell_type": "code",
   "execution_count": 51,
   "metadata": {},
   "outputs": [],
   "source": [
    "from scipy.spatial.distance import cosine\n",
    "def distance(v1,v2): return cosine(v1,v2)"
   ]
  },
  {
   "cell_type": "code",
   "execution_count": 52,
   "metadata": {},
   "outputs": [
    {
     "data": {
      "text/plain": [
       "0.9430060197077451"
      ]
     },
     "execution_count": 52,
     "metadata": {},
     "output_type": "execute_result"
    }
   ],
   "source": [
    "distance(vector_of_document_1,vector_of_document_2)"
   ]
  },
  {
   "cell_type": "markdown",
   "metadata": {},
   "source": [
    "## LDA"
   ]
  },
  {
   "cell_type": "code",
   "execution_count": 53,
   "metadata": {},
   "outputs": [],
   "source": [
    "from gensim import corpora, models\n",
    "import jieba.posseg as jp,jieba"
   ]
  },
  {
   "cell_type": "code",
   "execution_count": 54,
   "metadata": {},
   "outputs": [],
   "source": [
    "news = news_content[:100]"
   ]
  },
  {
   "cell_type": "code",
   "execution_count": null,
   "metadata": {},
   "outputs": [],
   "source": []
  },
  {
   "cell_type": "code",
   "execution_count": 55,
   "metadata": {},
   "outputs": [],
   "source": [
    "flags = ('n', 'nr', 'ns', 'nt', 'eng', 'v', 'd')"
   ]
  },
  {
   "cell_type": "code",
   "execution_count": 57,
   "metadata": {},
   "outputs": [],
   "source": [
    "stop_words = []\n",
    "with open(path + '百度停用词表.txt',encoding='utf-8') as f:\n",
    "    for word in f.readlines():\n",
    "        stop_words.append(word.strip())"
   ]
  },
  {
   "cell_type": "code",
   "execution_count": 58,
   "metadata": {},
   "outputs": [],
   "source": [
    "words_ls = []\n",
    "for text in news:\n",
    "    words = [w.word for w in jp.cut(text) if w.flag in flags and w.word not in stop_words]\n",
    "    words_ls.append(words)"
   ]
  },
  {
   "cell_type": "code",
   "execution_count": 59,
   "metadata": {},
   "outputs": [],
   "source": [
    "dictionary = corpora.Dictionary(words_ls)"
   ]
  },
  {
   "cell_type": "code",
   "execution_count": 60,
   "metadata": {},
   "outputs": [],
   "source": [
    "corpus = [dictionary.doc2bow(words) for words in words_ls]"
   ]
  },
  {
   "cell_type": "code",
   "execution_count": 61,
   "metadata": {},
   "outputs": [],
   "source": [
    "lda = models.ldamodel.LdaModel(corpus=corpus,id2word=dictionary,num_topics=5)"
   ]
  },
  {
   "cell_type": "code",
   "execution_count": 62,
   "metadata": {},
   "outputs": [
    {
     "name": "stdout",
     "output_type": "stream",
     "text": [
      "(0, '0.005*\"市场\" + 0.004*\"都\" + 0.004*\"索尼\" + 0.004*\"内容\" + 0.004*\"还\" + 0.003*\"不\" + 0.003*\"会\" + 0.003*\"企业\" + 0.003*\"中国\" + 0.003*\"PS4\"')\n",
      "(1, '0.006*\"企业\" + 0.005*\"跨境\" + 0.005*\"都\" + 0.004*\"人\" + 0.004*\"配送\" + 0.004*\"会\" + 0.004*\"无人\" + 0.004*\"不\" + 0.004*\"摄像头\" + 0.003*\"还\"')\n",
      "(2, '0.006*\"不\" + 0.005*\"会\" + 0.005*\"记者\" + 0.004*\"市场\" + 0.004*\"都\" + 0.004*\"中国\" + 0.003*\"板块\" + 0.003*\"人\" + 0.003*\"还\" + 0.003*\"企业\"')\n",
      "(3, '0.007*\"市场\" + 0.006*\"会\" + 0.006*\"中国\" + 0.006*\"都\" + 0.005*\"人\" + 0.005*\"手机\" + 0.005*\"不\" + 0.004*\"还\" + 0.004*\"冰架\" + 0.003*\"乐视\"')\n",
      "(4, '0.006*\"市场\" + 0.006*\"不\" + 0.005*\"还\" + 0.005*\"都\" + 0.004*\"人\" + 0.004*\"会\" + 0.003*\"中国\" + 0.003*\"更\" + 0.003*\"国家\" + 0.003*\"相关\"')\n"
     ]
    }
   ],
   "source": [
    "for topic in lda.print_topics(num_words=10):\n",
    "    print(topic)"
   ]
  },
  {
   "cell_type": "code",
   "execution_count": null,
   "metadata": {},
   "outputs": [],
   "source": []
  },
  {
   "cell_type": "code",
   "execution_count": 64,
   "metadata": {},
   "outputs": [
    {
     "data": {
      "text/plain": [
       "'骁龙 835 作为 唯一 通过 Windows10 桌面 平台 认证 的 ARM 处理器 高通 强调 不会 因为 只 考虑 性能 而 去 屏蔽掉 小 核心 相反 他们 正 联手 微软 找到 一种 适合 桌面 平台 的 兼顾 性能 和 功耗 的 完美 方案 报道 称 微软 已经 拿到 了 一些 新 的 源码 以便 Windows10 更好 地 理解 biglittle 架构 资料 显示 骁龙 835 作为 一款 集成 了 CPUGPU 基带 蓝牙 WiFi 的 SoC 比 传统 的 Wintel 方案 可以 节省 至少 30 的 PCB 空间 按计划 今年 Q4 华硕 惠普 联想 将 首发 骁龙 835Win10 电脑 预计 均 是 二合一 形态 的 产品 当然 高通 骁龙 只是 个 开始 未来 也许 还 能 见到 三星 Exynos 联发科 华为 麒麟 小米 澎湃 等 进入 Windows10 桌面 平台'"
      ]
     },
     "execution_count": 64,
     "metadata": {},
     "output_type": "execute_result"
    }
   ],
   "source": [
    "news[1]"
   ]
  },
  {
   "cell_type": "markdown",
   "metadata": {},
   "source": [
    "### 3.1 手动实现TextRank算法 (在新闻数据中随机提取100条新闻训练词向量和做做法测试）"
   ]
  },
  {
   "cell_type": "code",
   "execution_count": 70,
   "metadata": {},
   "outputs": [],
   "source": [
    "model = gensim.models.Word2Vec(words_ls, min_count=1)"
   ]
  },
  {
   "cell_type": "code",
   "execution_count": 71,
   "metadata": {},
   "outputs": [],
   "source": [
    "from collections import defaultdict\n",
    "from scipy.spatial.distance import cosine\n",
    "from icecream import ic"
   ]
  },
  {
   "cell_type": "code",
   "execution_count": 98,
   "metadata": {},
   "outputs": [],
   "source": [
    "def creat_graph(words_list, window_size=3):\n",
    "    words_list = list(set(words_list))\n",
    "    length = len(words_list)\n",
    "    edge_weights = {}\n",
    "    out = {}\n",
    "    word_index = {}#记录词的index\n",
    "    index_dict = {}#记录节点index对应的词\n",
    "    for i, w in enumerate(words_list):\n",
    "        index_dict[i] = w\n",
    "        word_index[w] = i\n",
    "        start = i - window_size + 1\n",
    "        if start < 0:\n",
    "            start = 0\n",
    "        end = i + window_size\n",
    "        if end > length:\n",
    "            end = length\n",
    "        out[w] = words_list[start:i]+words_list[i+1:end]\n",
    "        \n",
    "        for j in range(1,window_size):\n",
    "            if (i+j)<length:\n",
    "                edge_weights[(w,words_list[i+j])] = cosine(model[w],model[words_list[i+j]])\n",
    "                edge_weights[(words_list[i+j],w)] = cosine(model[w],model[words_list[i+j]])\n",
    "    \n",
    "    return edge_weights,out,index_dict,word_index"
   ]
  },
  {
   "cell_type": "code",
   "execution_count": 122,
   "metadata": {},
   "outputs": [],
   "source": [
    "def TextRank_get_kws(topK, words_list, d=0.85, iternum = 200):\n",
    "    edge_w, out, index_dict, word_index= creat_graph(words_list)\n",
    "    words_list = list(set(words_list))\n",
    "    score = np.ones([len(words_list)])\n",
    "    score /= (len(words_list))\n",
    "    sum_out = 0\n",
    "    sum_in = 0\n",
    "    word_pr = {}\n",
    "    for n in range(iternum):\n",
    "        for i in range(len(words_list)):\n",
    "            for e1 in out[words_list[i]]:\n",
    "                sum_out = sum(edge_w[(e1,e2)] for e2 in out[e1])\n",
    "                sum_in += edge_w[(words_list[i],e1)] * score[word_index[e1]]/sum_out\n",
    "            score[i] = (1-d) + d * sum_in\n",
    "            \n",
    "    for i in range(len(score)):\n",
    "        word_pr[index_dict[i]] = score[i]\n",
    "   \n",
    "    return [w for w,_ in sorted(word_pr.items(), reverse = True)][:topK]"
   ]
  },
  {
   "cell_type": "code",
   "execution_count": 127,
   "metadata": {},
   "outputs": [
    {
     "data": {
      "text/plain": [
       "'此外 自 本周 6 月 12 日起 除 小米 手机 6 等 15 款 机型 外 其余 机型 已 暂停 更新 发布 含 开发 版 体验版 内测 稳定版 暂不受 影响 以 确保 工程师 可以 集中 全部 精力 进行 系统优化 工作 有人 猜测 这 也 是 将 精力 主要 用到 MIUI9 的 研发 之中 MIUI8 去年 5 月 发布 距今已有 一年 有余 也 是 时候 更新换代 了 当然 关于 MIUI9 的 确切 信息 我们 还是 等待 官方消息'"
      ]
     },
     "execution_count": 127,
     "metadata": {},
     "output_type": "execute_result"
    }
   ],
   "source": [
    "news[0]"
   ]
  },
  {
   "cell_type": "code",
   "execution_count": 126,
   "metadata": {},
   "outputs": [
    {
     "data": {
      "text/plain": [
       "['小米',\n",
       " '手机',\n",
       " '机型',\n",
       " '机型',\n",
       " '已',\n",
       " '暂停',\n",
       " '更新',\n",
       " '发布',\n",
       " '含',\n",
       " '开发',\n",
       " '版',\n",
       " '体验版',\n",
       " '内测',\n",
       " '稳定版',\n",
       " '暂不',\n",
       " '受',\n",
       " '确保',\n",
       " '工程师',\n",
       " '精力',\n",
       " '系统优化',\n",
       " '精力',\n",
       " '用到',\n",
       " 'MIUI9',\n",
       " 'MIUI8',\n",
       " '发布',\n",
       " '距今已有',\n",
       " 'MIUI9',\n",
       " '信息',\n",
       " '等待',\n",
       " '官方消息']"
      ]
     },
     "execution_count": 126,
     "metadata": {},
     "output_type": "execute_result"
    }
   ],
   "source": [
    "words_ls[0]"
   ]
  },
  {
   "cell_type": "code",
   "execution_count": 125,
   "metadata": {},
   "outputs": [
    {
     "name": "stdout",
     "output_type": "stream",
     "text": [
      "['距今已有', '系统优化', '精力', '等待', '稳定版']\n"
     ]
    },
    {
     "name": "stderr",
     "output_type": "stream",
     "text": [
      "C:\\ProgramData\\Anaconda3\\lib\\site-packages\\ipykernel_launcher.py:21: DeprecationWarning: Call to deprecated `__getitem__` (Method will be removed in 4.0.0, use self.wv.__getitem__() instead).\n",
      "C:\\ProgramData\\Anaconda3\\lib\\site-packages\\ipykernel_launcher.py:22: DeprecationWarning: Call to deprecated `__getitem__` (Method will be removed in 4.0.0, use self.wv.__getitem__() instead).\n",
      "C:\\ProgramData\\Anaconda3\\lib\\site-packages\\ipykernel_launcher.py:13: RuntimeWarning: overflow encountered in double_scalars\n",
      "  del sys.path[0]\n"
     ]
    }
   ],
   "source": [
    "kw =TextRank_get_kws(5,words_ls[0])\n",
    "print(kw)"
   ]
  },
  {
   "cell_type": "markdown",
   "metadata": {},
   "source": [
    "### 3.2 使用词向量和k-means的方法寻找关键词"
   ]
  },
  {
   "cell_type": "code",
   "execution_count": 128,
   "metadata": {},
   "outputs": [],
   "source": [
    "from sklearn.cluster import KMeans\n",
    "from scipy.spatial.distance import cosine\n",
    "from collections import defaultdict"
   ]
  },
  {
   "cell_type": "code",
   "execution_count": 129,
   "metadata": {},
   "outputs": [],
   "source": [
    "def get_kw_km_cls(text, n_class):\n",
    "    text = list(set(text))\n",
    "\n",
    "    sen_vec = [model[w] for w in text]\n",
    "\n",
    "    clf = KMeans(n_clusters=n_class, random_state=0)\n",
    "    prediction = clf.fit_predict(sen_vec)\n",
    "    \n",
    "    vec_center = clf.cluster_centers_ #聚类中心   \n",
    "    classes = defaultdict(list)\n",
    "    similar = defaultdict(list)\n",
    "    key_words = defaultdict(list)\n",
    "    \n",
    "    for label, word in zip(clf.labels_, text):\n",
    "        classes[label].append(word)\n",
    "        sim = (word, cosine(model[word],vec_center[label]))\n",
    "        similar[label].append(sim)\n",
    "\n",
    "    #每类取3个关键词\n",
    "    for k, v in similar.items():\n",
    "        key_words[k] = [w for w,_ in sorted(v, key = lambda x:x[1], reverse = True)[:3]] if len(v) > 3 else [w for w,_ in v]\n",
    "\n",
    "    return classes, key_words"
   ]
  },
  {
   "cell_type": "code",
   "execution_count": 132,
   "metadata": {},
   "outputs": [
    {
     "name": "stderr",
     "output_type": "stream",
     "text": [
      "C:\\ProgramData\\Anaconda3\\lib\\site-packages\\ipykernel_launcher.py:4: DeprecationWarning: Call to deprecated `__getitem__` (Method will be removed in 4.0.0, use self.wv.__getitem__() instead).\n",
      "  after removing the cwd from sys.path.\n",
      "C:\\ProgramData\\Anaconda3\\lib\\site-packages\\ipykernel_launcher.py:16: DeprecationWarning: Call to deprecated `__getitem__` (Method will be removed in 4.0.0, use self.wv.__getitem__() instead).\n",
      "  app.launch_new_instance()\n"
     ]
    },
    {
     "data": {
      "text/plain": [
       "(defaultdict(list,\n",
       "             {0: ['体验版',\n",
       "               'MIUI8',\n",
       "               '开发',\n",
       "               '信息',\n",
       "               '距今已有',\n",
       "               '机型',\n",
       "               '暂停',\n",
       "               '官方消息',\n",
       "               '确保',\n",
       "               '内测',\n",
       "               '受',\n",
       "               '工程师',\n",
       "               'MIUI9',\n",
       "               '暂不',\n",
       "               '稳定版',\n",
       "               '含',\n",
       "               '发布',\n",
       "               '已',\n",
       "               '版',\n",
       "               '更新',\n",
       "               '系统优化',\n",
       "               '小米',\n",
       "               '等待',\n",
       "               '用到',\n",
       "               '精力'],\n",
       "              1: ['手机']}),\n",
       " defaultdict(list, {0: ['精力', '确保', 'MIUI8'], 1: ['手机']}))"
      ]
     },
     "execution_count": 132,
     "metadata": {},
     "output_type": "execute_result"
    }
   ],
   "source": [
    "get_kw_km_cls(words_ls[0],2)"
   ]
  },
  {
   "cell_type": "code",
   "execution_count": null,
   "metadata": {},
   "outputs": [],
   "source": []
  },
  {
   "cell_type": "code",
   "execution_count": null,
   "metadata": {},
   "outputs": [],
   "source": []
  },
  {
   "cell_type": "code",
   "execution_count": null,
   "metadata": {},
   "outputs": [],
   "source": []
  },
  {
   "cell_type": "code",
   "execution_count": null,
   "metadata": {},
   "outputs": [],
   "source": []
  },
  {
   "cell_type": "code",
   "execution_count": null,
   "metadata": {},
   "outputs": [],
   "source": []
  },
  {
   "cell_type": "code",
   "execution_count": null,
   "metadata": {},
   "outputs": [],
   "source": []
  }
 ],
 "metadata": {
  "kernelspec": {
   "display_name": "Python 3",
   "language": "python",
   "name": "python3"
  },
  "language_info": {
   "codemirror_mode": {
    "name": "ipython",
    "version": 3
   },
   "file_extension": ".py",
   "mimetype": "text/x-python",
   "name": "python",
   "nbconvert_exporter": "python",
   "pygments_lexer": "ipython3",
   "version": "3.7.3"
  }
 },
 "nbformat": 4,
 "nbformat_minor": 2
}
