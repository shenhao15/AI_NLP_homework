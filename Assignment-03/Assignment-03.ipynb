{
 "cells": [
  {
   "cell_type": "markdown",
   "metadata": {},
   "source": [
    "## Assignment-03 First Step of Machine Learning: Model and Evaluation"
   ]
  },
  {
   "cell_type": "markdown",
   "metadata": {},
   "source": [
    "同学们，今天我们的学习了基本的机器学习概念，相比你已经对机器学习的这些方法有一个基本的认识了。值得说明的是，机器学习不仅仅是一系列方法，更重要的是一种思维体系，即：依据以往的、现有的数据，构建某种方法来解决未见过的问题。而且决策树，贝叶斯只是实现这个目标的一个方法，包括之后的神经网络。很有可能有一天，神经网络也会被淘汰，但是重要的是我们要理解机器学习的目标，就是尽可能的自动化解决未知的问题。"
   ]
  },
  {
   "cell_type": "markdown",
   "metadata": {},
   "source": [
    "![](https://timgsa.baidu.com/timg?image&quality=80&size=b9999_10000&sec=1571556399207&di=4a97dc15ad08dd49d3748d1edf6109b3&imgtype=0&src=http%3A%2F%2Fc.hiphotos.baidu.com%2Fzhidao%2Fwh%3D450%2C600%2Fsign%3Dae742c6aedcd7b89e93932873a146e91%2F5d6034a85edf8db1b16050c40223dd54574e74c7.jpg)"
   ]
  },
  {
   "cell_type": "markdown",
   "metadata": {},
   "source": [
    "## Part-1 Programming Review 编程回顾"
   ]
  },
  {
   "cell_type": "markdown",
   "metadata": {},
   "source": [
    "#### 1. Re-code the Linear-Regression Model using scikit-learning(10 points)"
   ]
  },
  {
   "cell_type": "markdown",
   "metadata": {},
   "source": [
    "<评阅点>： \n",
    "> + 是否完成线性回归模型 (4')\n",
    "+ 能够进行预测新数据(3')\n",
    "+ 能够进行可视化操作(3')"
   ]
  },
  {
   "cell_type": "code",
   "execution_count": 10,
   "metadata": {},
   "outputs": [],
   "source": [
    "# you code here\n",
    "import sklearn\n",
    "import matplotlib.pyplot as plt\n",
    "import numpy as np\n",
    "import pandas as pd\n",
    "import random\n",
    "from icecream import ic\n",
    "from sklearn.linear_model import LinearRegression"
   ]
  },
  {
   "cell_type": "code",
   "execution_count": 15,
   "metadata": {},
   "outputs": [],
   "source": [
    "# %matplotlib inline\n",
    "random_data = np.random.random((50, 2))\n",
    "X = random_data[:, 0]\n",
    "Y = random_data[:,1]\n"
   ]
  },
  {
   "cell_type": "code",
   "execution_count": 17,
   "metadata": {},
   "outputs": [
    {
     "data": {
      "text/plain": [
       "<matplotlib.collections.PathCollection at 0x2143ea73ef0>"
      ]
     },
     "execution_count": 17,
     "metadata": {},
     "output_type": "execute_result"
    },
    {
     "data": {
      "image/png": "[encoded data removed]",
      "text/plain": [
       "<Figure size 432x288 with 1 Axes>"
      ]
     },
     "metadata": {
      "needs_background": "light"
     },
     "output_type": "display_data"
    }
   ],
   "source": [
    "def assmuing_function(x):\n",
    "    return 10 * x + 5 + random.randint(-5, 5)\n",
    "y = [assmuing_function(x) for x in X]\n",
    "plt.scatter(X, y)"
   ]
  },
  {
   "cell_type": "code",
   "execution_count": 18,
   "metadata": {},
   "outputs": [
    {
     "name": "stdout",
     "output_type": "stream",
     "text": [
      "回归线的k值是: [10.16767424]\n",
      "回归线的截距b是: 3.6478918335599086\n",
      "回归线的R^2是: 0.5140193310557182\n"
     ]
    }
   ],
   "source": [
    "y = np.array(y)\n",
    "reg = LinearRegression().fit(X.reshape(-1, 1), y)\n",
    "print('回归线的k值是: {0}'.format(reg.coef_))\n",
    "print('回归线的截距b是: {0}'.format(reg.intercept_))\n",
    "print('回归线的R^2是: {0}'.format(reg.score(X.reshape(-1, 1), y)))"
   ]
  },
  {
   "cell_type": "code",
   "execution_count": 19,
   "metadata": {},
   "outputs": [
    {
     "data": {
      "text/plain": [
       "[<matplotlib.lines.Line2D at 0x2143c860b70>]"
      ]
     },
     "execution_count": 19,
     "metadata": {},
     "output_type": "execute_result"
    },
    {
     "data": {
      "image/png": "[encoded data removed]",
      "text/plain": [
       "<Figure size 432x288 with 1 Axes>"
      ]
     },
     "metadata": {
      "needs_background": "light"
     },
     "output_type": "display_data"
    }
   ],
   "source": [
    "### function of predicting new data\n",
    "def regression_value(x):\n",
    "    return reg.coef_ * x + reg.intercept_\n",
    "plt.scatter(X, y)\n",
    "plt.plot(X, regression_value(X), color = 'red')"
   ]
  },
  {
   "cell_type": "code",
   "execution_count": 21,
   "metadata": {},
   "outputs": [
    {
     "data": {
      "text/plain": [
       "array([5.68142668])"
      ]
     },
     "execution_count": 21,
     "metadata": {},
     "output_type": "execute_result"
    }
   ],
   "source": [
    "regression_value([0.2])"
   ]
  },
  {
   "cell_type": "markdown",
   "metadata": {},
   "source": [
    "#### 2. Complete the unfinished KNN Model using pure python to solve the previous Line-Regression problem. (8 points)"
   ]
  },
  {
   "cell_type": "markdown",
   "metadata": {},
   "source": [
    "<评阅点>:\n",
    "> + 是否完成了KNN模型 (4')\n",
    "+ 是否能够预测新的数据 (4')"
   ]
  },
  {
   "cell_type": "code",
   "execution_count": 22,
   "metadata": {},
   "outputs": [],
   "source": [
    "# you code here\n",
    "def model(X, y):\n",
    "    return [(Xi, yi) for Xi, yi in zip(X, y)]"
   ]
  },
  {
   "cell_type": "code",
   "execution_count": 23,
   "metadata": {},
   "outputs": [],
   "source": [
    "from scipy.spatial.distance import cosine\n",
    "def distance(x1, x2):\n",
    "    return cosine(x1, x2)"
   ]
  },
  {
   "cell_type": "code",
   "execution_count": 24,
   "metadata": {},
   "outputs": [],
   "source": [
    "def predict(x, k=5):\n",
    "    most_similars = sorted(model(X, y), key=lambda xi: distance(xi[0], x))[:k]\n",
    "    return np.mean([i[1] for i in most_similars])\n",
    "    # 已经获得了最相似的数据集\n",
    "    # 然后呢，Counter() -> most_common() -> 就可以获得出现最多的这个y了 "
   ]
  },
  {
   "cell_type": "code",
   "execution_count": 26,
   "metadata": {},
   "outputs": [
    {
     "data": {
      "text/plain": [
       "10.63825186999771"
      ]
     },
     "execution_count": 26,
     "metadata": {},
     "output_type": "execute_result"
    }
   ],
   "source": [
    "predict(0.2,3)"
   ]
  },
  {
   "cell_type": "markdown",
   "metadata": {},
   "source": [
    "#### 3. Re-code the Decision Tree, which could sort the features by salience. (12 points)"
   ]
  },
  {
   "cell_type": "markdown",
   "metadata": {},
   "source": [
    "<评阅点>\n",
    "> + 是否实现了信息熵 (1' )\n",
    "+ 是否实现了最优先特征点的选择(5')\n",
    "+ 是否实现了持续的特征选则(6')"
   ]
  },
  {
   "cell_type": "code",
   "execution_count": 13,
   "metadata": {},
   "outputs": [],
   "source": [
    "# you code here\n",
    "from collections import Counter\n",
    "def entropy(elements):\n",
    "    counter = Counter(elements)\n",
    "    probs = [counter[c] / len(elements) for c in set(elements)]\n",
    "    return - sum(p * np.log(p) for p in probs)"
   ]
  },
  {
   "cell_type": "code",
   "execution_count": 14,
   "metadata": {},
   "outputs": [],
   "source": [
    "from icecream import ic\n",
    "def find_the_min_spilter(training_data: pd.DataFrame, target: str) -> str:\n",
    "    x_fields = set(training_data.columns.tolist()) - {target}\n",
    "   # ic(x_fields)\n",
    "    spliter = None\n",
    "    min_entropy = float('inf')\n",
    "    \n",
    "    for f in x_fields:\n",
    "      #  ic(f)\n",
    "        values = set(training_data[f])\n",
    "      #  ic(values)\n",
    "        for v in values:\n",
    "            sub_spliter_1 = training_data[training_data[f] == v][target].tolist()\n",
    "           # ic(sub_spliter_1)\n",
    "            entropy_1 = entropy(sub_spliter_1)\n",
    "           # ic(entropy_1)\n",
    "            sub_spliter_2 = training_data[training_data[f] != v][target].tolist()\n",
    "           # ic(sub_spliter_2)\n",
    "            entropy_2 = entropy(sub_spliter_2)\n",
    "           # ic(entropy_2)\n",
    "            entropy_v = entropy_1 + entropy_2\n",
    "           # ic(entropy_v)\n",
    "            \n",
    "            if entropy_v <= min_entropy:\n",
    "                min_entropy = entropy_v\n",
    "                spliter = (f, v)\n",
    "    \n",
    "    print('spliter is: {}'.format(spliter))\n",
    "    print('the min entropy is: {}'.format(min_entropy))\n",
    "    \n",
    "    return spliter"
   ]
  },
  {
   "cell_type": "code",
   "execution_count": 21,
   "metadata": {},
   "outputs": [],
   "source": [
    "#生成决策树\n",
    "def decision_tree(training_data: pd.DataFrame, target: str) -> str:\n",
    "    spliter = find_the_min_spilter(training_data, target)\n",
    "    sub_tree = training_data[training_data[spliter[0]]!=spliter[1]]\n",
    "    ic(sub_tree)\n",
    "    if len(set(training_data[spliter[0]])) != 1:\n",
    "        return decision_tree(sub_tree, target)"
   ]
  },
  {
   "cell_type": "code",
   "execution_count": 16,
   "metadata": {},
   "outputs": [],
   "source": [
    "mock_data = {\n",
    "    'gender':['F', 'F', 'F', 'F', 'M', 'M', 'M'],\n",
    "    'income': ['+10', '-10', '+10', '+10', '+10', '+10', '-10'],\n",
    "    'family_number': [1, 1, 2, 1, 1, 1, 2],\n",
    "    'bought': [1, 1, 1, 0, 0, 0, 1],\n",
    "}\n",
    "dataset = pd.DataFrame.from_dict(mock_data)"
   ]
  },
  {
   "cell_type": "code",
   "execution_count": 22,
   "metadata": {},
   "outputs": [
    {
     "name": "stderr",
     "output_type": "stream",
     "text": [
      "ic| sub_tree:   gender income  family_number  bought\n",
      "              0      F    +10              1       1\n",
      "              1      F    -10              1       1\n",
      "              3      F    +10              1       0\n",
      "              4      M    +10              1       0\n",
      "              5      M    +10              1       0\n",
      "ic| sub_tree:   gender income  family_number  bought\n",
      "              0      F    +10              1       1\n",
      "              3      F    +10              1       0\n",
      "              4      M    +10              1       0\n",
      "              5      M    +10              1       0\n",
      "ic| sub_tree: "
     ]
    },
    {
     "name": "stdout",
     "output_type": "stream",
     "text": [
      "spliter is: ('family_number', 2)\n",
      "the min entropy is: 0.6730116670092565\n",
      "spliter is: ('income', '-10')\n",
      "the min entropy is: 0.5623351446188083\n",
      "spliter is: ('family_number', 1)\n",
      "the min entropy is: 0.5623351446188083\n"
     ]
    },
    {
     "name": "stderr",
     "output_type": "stream",
     "text": [
      "Empty DataFrame\n",
      "              Columns: [gender, income, family_number, bought]\n",
      "              Index: []\n"
     ]
    }
   ],
   "source": [
    "decision_tree(dataset, 'bought')"
   ]
  },
  {
   "cell_type": "code",
   "execution_count": 20,
   "metadata": {},
   "outputs": [],
   "source": []
  },
  {
   "cell_type": "markdown",
   "metadata": {},
   "source": [
    "#### 4. Finish the K-Means using 2-D matplotlib (8 points)"
   ]
  },
  {
   "cell_type": "markdown",
   "metadata": {},
   "source": [
    "<评阅点>\n",
    "> + 是否完成了KMeans模型，基于scikit-learning (3')\n",
    "+ 是否完成了可视化任务（5'）"
   ]
  },
  {
   "cell_type": "code",
   "execution_count": 54,
   "metadata": {},
   "outputs": [],
   "source": [
    "from sklearn.cluster import KMeans\n",
    "import random\n",
    "from collections import defaultdict\n",
    "import matplotlib.pyplot as plt"
   ]
  },
  {
   "cell_type": "code",
   "execution_count": 55,
   "metadata": {},
   "outputs": [
    {
     "data": {
      "image/png": "[encoded data removed]",
      "text/plain": [
       "<Figure size 432x288 with 1 Axes>"
      ]
     },
     "metadata": {
      "needs_background": "light"
     },
     "output_type": "display_data"
    }
   ],
   "source": [
    "X1 = [random.randint(0, 100) for _ in range(100)]\n",
    "X2 = [random.randint(0, 100) for _ in range(100)]\n",
    "\n",
    "training_data = [[x1, x2] for x1, x2 in zip(X1, X2)]\n",
    "cluster = KMeans(n_clusters=6, max_iter=500)\n",
    "cluster.fit(training_data)\n",
    "centers = defaultdict(list)\n",
    "for label, location in zip(cluster.labels_, training_data):\n",
    "    centers[label].append(location)\n",
    "color = ['red', 'green', 'grey', 'black', 'yellow', 'orange']\n",
    "\n",
    "for i, c in enumerate(centers):\n",
    "    for location in centers[c]:\n",
    "        plt.scatter(*location, c=color[i])\n",
    "\n",
    "for center in cluster.cluster_centers_:\n",
    "    plt.scatter(*center, s=100)\n"
   ]
  },
  {
   "cell_type": "code",
   "execution_count": null,
   "metadata": {},
   "outputs": [],
   "source": []
  },
  {
   "cell_type": "markdown",
   "metadata": {},
   "source": [
    "## Part-2 Question and Answer 问答"
   ]
  },
  {
   "cell_type": "markdown",
   "metadata": {},
   "source": [
    "#### 1. What's the *model*? why  all the models are wrong, but some are useful? (5 points) "
   ]
  },
  {
   "cell_type": "markdown",
   "metadata": {},
   "source": [
    "Ans:模型是对特定类型数据规律的总结和描述；现实世界异常复杂，模型不可能完全准确全面的描述现实世界，但有些模型可以从某一方面相对正确的描述出现实世界。"
   ]
  },
  {
   "cell_type": "markdown",
   "metadata": {},
   "source": [
    "<评阅点>\n",
    "> + 对模型的理解是否正确,对模型的抽象性是否正确(5')"
   ]
  },
  {
   "cell_type": "markdown",
   "metadata": {},
   "source": [
    "#### 2. What's the underfitting and overfitting? List the reasons that could make model overfitting or underfitting. (10 points)"
   ]
  },
  {
   "cell_type": "markdown",
   "metadata": {},
   "source": [
    "Ans:\n",
    "过拟合：模型在训练集表现很好，在测试集表现很差；\n",
    "过拟合原因：模型太过复杂，特征过多，训练过度等。\n",
    "欠拟合：模型在训练集和测试集上表现均很差；\n",
    "欠拟合原因：模型太简单，数量太小，数据分布不对，系数过大等。"
   ]
  },
  {
   "cell_type": "markdown",
   "metadata": {},
   "source": [
    "<评阅点>\n",
    "> + 对过拟合和欠拟合的理解是否正确 (3')\n",
    "+ 对欠拟合产生的原因是否理解正确(2')\n",
    "+ 对过拟合产生的原因是否理解正确(5')"
   ]
  },
  {
   "cell_type": "markdown",
   "metadata": {},
   "source": [
    "#### 3. What's the precision, recall, AUC, F1, F2score. What are they mainly target on? (12')"
   ]
  },
  {
   "cell_type": "markdown",
   "metadata": {},
   "source": [
    "Ans:\n",
    "\n",
    "TP、True Positive  真阳性：预测为正，实际也为正\n",
    "\n",
    "FP、False Positive  假阳性：预测为正，实际为负\n",
    "\n",
    "FN、False Negative 假阴性：预测与负、实际为正\n",
    "\n",
    "TN、True Negative 真阴性：预测为负、实际也为负。\n",
    "\n",
    "precision（精确率）：被预测为正例的样本中，真实的正例所占的比例,强调查准率；precision=TP/TP+FP。\n",
    "\n",
    "recall（召回率）：真实的正例样本中，被预测为正例的样本所占的比例，强调查全率；recall=TP/TP+FN。\n",
    "\n",
    "$$ F-score = (1 + \\beta^2) * \\frac{Precision*Recall}{\\beta^2*Precision + Recall} $$\n",
    "\n",
    "F1-score ：兼顾精准率与召回率的模型评价指标,是精确率和召回率的平衡。F1=2*precision*recall/precision+recall。\n",
    "\n",
    "F2-score：当F1-Score时召回率和精确率都很重要，权重相同。当有些情况下,我们认为精确率更为重要，那就调整 β 的值小于 1 ，如果我们认为召回率更加重要，那就调整 β的值大于1，比如F2-Score,F2=5*precision*recall/4*precision+recall。\n",
    "\n",
    "ROC(receiver operating characteristic curve)是一条曲线，其横轴表示的是FPR(False Positive Rate)——错误地预测为正例的概率，纵轴表示的是TPR(True Positive Rate)——正确地预测为正例地概率。AUC(area under curve)是一个数值，从定义上可以直观的看到其表征的意思——曲线与坐标轴围成的面积，ROC-AUC即表示的是ROC曲线与坐标轴围成的面积。\n",
    "\n",
    "\n"
   ]
  },
  {
   "cell_type": "markdown",
   "metadata": {},
   "source": [
    "<评阅点>\n",
    "> + 对precision, recall, AUC, F1, F2 理解是否正确(6‘)\n",
    "+ 对precision, recall, AUC, F1, F2的使用侧重点是否理解正确 (6’)"
   ]
  },
  {
   "cell_type": "markdown",
   "metadata": {},
   "source": [
    "#### 4. Based on our course and yourself mind, what's the machine learning?  (8')"
   ]
  },
  {
   "cell_type": "markdown",
   "metadata": {},
   "source": [
    "Ans:机器学习是在大量数据基础上，利用计算机学习其中的数据规律，并利用规律归纳现有数据或者预测未来数据的趋势。\n",
    "\n",
    "机器学习是数据驱动，传统编程是规则驱动。"
   ]
  },
  {
   "cell_type": "markdown",
   "metadata": {},
   "source": [
    "<评阅点> 开放式问题，是否能说出来机器学习这种思维方式和传统的分析式编程的区别（8'）"
   ]
  },
  {
   "cell_type": "markdown",
   "metadata": {},
   "source": [
    "#### 5. \"正确定义了机器学习模型的评价标准(evaluation)， 问题基本上就已经解决一半\". 这句话是否正确？你是怎么看待的？ (8‘)"
   ]
  },
  {
   "cell_type": "markdown",
   "metadata": {},
   "source": [
    "Ans：认可该观点。正确定义了机器学习模型的评价标准，也就明确了需求和目标，后续工作只是如何寻找更多有用的数据拟合更高效的模型。"
   ]
  },
  {
   "cell_type": "markdown",
   "metadata": {},
   "source": [
    "<评阅点> 开放式问题，主要看能理解评价指标对机器学习模型的重要性."
   ]
  },
  {
   "cell_type": "markdown",
   "metadata": {},
   "source": [
    "## Part-03 Programming Practice 编程练习"
   ]
  },
  {
   "cell_type": "markdown",
   "metadata": {},
   "source": [
    "1. In our course and previous practice, we complete some importance components of Decision Tree. In this problem, you need to build a **completed** Decision Tree Model. You show finish a `predicate()` function, which accepts three parameters **<gender, income, family_number>**, and outputs the predicated 'bought': 1 or 0.  (20 points)"
   ]
  },
  {
   "cell_type": "code",
   "execution_count": 28,
   "metadata": {},
   "outputs": [
    {
     "name": "stderr",
     "output_type": "stream",
     "text": [
      "ic| spliter[0]: 'family_number'\n",
      "ic| spliter[1]: 1\n",
      "ic| dataset[dataset[spliter[0]]==spliter[1]][target]: 0    1\n",
      "                                                      3    0\n",
      "                                                      5    0\n",
      "                                                      Name: bought, dtype: int64\n",
      "ic| spliter[0]: 'family_number'\n",
      "ic| spliter[1]: 1\n",
      "ic| dataset[dataset[spliter[0]]==spliter[1]][target]: 1    1\n",
      "                                                      Name: bought, dtype: int64\n",
      "ic| spliter[0]: 'family_number'\n",
      "ic| spliter[1]: 2\n",
      "ic| dataset[dataset[spliter[0]]==spliter[1]][target]: 2    1\n",
      "                                                      6    1\n",
      "                                                      Name: bought, dtype: int64\n",
      "ic| spliter[0]: 'family_number'\n",
      "ic| spliter[1]: 3\n",
      "ic| dataset[dataset[spliter[0]]==spliter[1]][target]: 4    0\n",
      "                                                      Name: bought, dtype: int64\n",
      "ic| D_tree: {'family_number': {1: {'income': {'+10': 0    1\n",
      "            3    0\n",
      "            5    0\n",
      "            Name: bought, dtype: int64,\n",
      "                                              '-10': 1    1\n",
      "            Name: bought, dtype: int64}},\n",
      "                               2: 2    1\n",
      "            6    1\n",
      "            Name: bought, dtype: int64,\n",
      "                               3: 4    0\n",
      "            Name: bought, dtype: int64}}\n"
     ]
    },
    {
     "ename": "ValueError",
     "evalue": "The truth value of a Series is ambiguous. Use a.empty, a.bool(), a.item(), a.any() or a.all().",
     "output_type": "error",
     "traceback": [
      "\u001b[1;31m---------------------------------------------------------------------------\u001b[0m",
      "\u001b[1;31mValueError\u001b[0m                                Traceback (most recent call last)",
      "\u001b[1;32m<ipython-input-28-dadb8845a1f1>\u001b[0m in \u001b[0;36m<module>\u001b[1;34m\u001b[0m\n\u001b[0;32m     74\u001b[0m \u001b[1;33m\u001b[0m\u001b[0m\n\u001b[0;32m     75\u001b[0m \u001b[1;31m## 遇到一些问题\u001b[0m\u001b[1;33m\u001b[0m\u001b[1;33m\u001b[0m\u001b[1;33m\u001b[0m\u001b[0m\n\u001b[1;32m---> 76\u001b[1;33m \u001b[0mp_1\u001b[0m \u001b[1;33m=\u001b[0m \u001b[0mpredicate\u001b[0m\u001b[1;33m(\u001b[0m\u001b[0mD_tree\u001b[0m\u001b[1;33m,\u001b[0m \u001b[1;34m'M'\u001b[0m\u001b[1;33m,\u001b[0m \u001b[1;34m'-10'\u001b[0m\u001b[1;33m,\u001b[0m \u001b[1;36m1\u001b[0m\u001b[1;33m)\u001b[0m\u001b[1;33m\u001b[0m\u001b[1;33m\u001b[0m\u001b[0m\n\u001b[0m\u001b[0;32m     77\u001b[0m \u001b[0mprint\u001b[0m\u001b[1;33m(\u001b[0m\u001b[1;34m\"p_1\"\u001b[0m\u001b[1;33m,\u001b[0m\u001b[0mp_1\u001b[0m\u001b[1;33m)\u001b[0m\u001b[1;33m\u001b[0m\u001b[1;33m\u001b[0m\u001b[0m\n",
      "\u001b[1;32m<ipython-input-28-dadb8845a1f1>\u001b[0m in \u001b[0;36mpredicate\u001b[1;34m(decision_tree, gender, income, family_number)\u001b[0m\n\u001b[0;32m     60\u001b[0m                 \u001b[1;32mreturn\u001b[0m \u001b[0msubtree\u001b[0m\u001b[1;33m\u001b[0m\u001b[1;33m\u001b[0m\u001b[0m\n\u001b[0;32m     61\u001b[0m             \u001b[1;32melse\u001b[0m\u001b[1;33m:\u001b[0m\u001b[1;33m\u001b[0m\u001b[1;33m\u001b[0m\u001b[0m\n\u001b[1;32m---> 62\u001b[1;33m                 \u001b[0mprdc\u001b[0m \u001b[1;33m=\u001b[0m \u001b[0mpredicate\u001b[0m\u001b[1;33m(\u001b[0m\u001b[0msubtree\u001b[0m\u001b[1;33m,\u001b[0m \u001b[0mgender\u001b[0m\u001b[1;33m,\u001b[0m \u001b[0mincome\u001b[0m\u001b[1;33m,\u001b[0m \u001b[0mfamily_number\u001b[0m\u001b[1;33m)\u001b[0m\u001b[1;33m\u001b[0m\u001b[1;33m\u001b[0m\u001b[0m\n\u001b[0m\u001b[0;32m     63\u001b[0m                 \u001b[1;32mreturn\u001b[0m \u001b[0mprdc\u001b[0m\u001b[1;33m\u001b[0m\u001b[1;33m\u001b[0m\u001b[0m\n\u001b[0;32m     64\u001b[0m \u001b[1;33m\u001b[0m\u001b[0m\n",
      "\u001b[1;32m<ipython-input-28-dadb8845a1f1>\u001b[0m in \u001b[0;36mpredicate\u001b[1;34m(decision_tree, gender, income, family_number)\u001b[0m\n\u001b[0;32m     57\u001b[0m         \u001b[1;32mif\u001b[0m \u001b[0mkey\u001b[0m \u001b[1;32min\u001b[0m \u001b[1;33m(\u001b[0m\u001b[0mgender\u001b[0m\u001b[1;33m,\u001b[0m \u001b[0mincome\u001b[0m\u001b[1;33m,\u001b[0m \u001b[0mfamily_number\u001b[0m\u001b[1;33m)\u001b[0m\u001b[1;33m:\u001b[0m\u001b[1;33m\u001b[0m\u001b[1;33m\u001b[0m\u001b[0m\n\u001b[0;32m     58\u001b[0m             \u001b[0msubtree\u001b[0m \u001b[1;33m=\u001b[0m \u001b[0mdecision_tree\u001b[0m\u001b[1;33m[\u001b[0m\u001b[0mtuple\u001b[0m\u001b[1;33m(\u001b[0m\u001b[0mdecision_tree\u001b[0m\u001b[1;33m.\u001b[0m\u001b[0mkeys\u001b[0m\u001b[1;33m(\u001b[0m\u001b[1;33m)\u001b[0m\u001b[1;33m)\u001b[0m\u001b[1;33m[\u001b[0m\u001b[1;36m0\u001b[0m\u001b[1;33m]\u001b[0m\u001b[1;33m]\u001b[0m\u001b[1;33m[\u001b[0m\u001b[0mkey\u001b[0m\u001b[1;33m]\u001b[0m\u001b[1;33m\u001b[0m\u001b[1;33m\u001b[0m\u001b[0m\n\u001b[1;32m---> 59\u001b[1;33m             \u001b[1;32mif\u001b[0m \u001b[0msubtree\u001b[0m \u001b[1;33m==\u001b[0m \u001b[1;36m1\u001b[0m \u001b[1;32mor\u001b[0m \u001b[0msubtree\u001b[0m \u001b[1;33m==\u001b[0m \u001b[1;36m0\u001b[0m\u001b[1;33m:\u001b[0m\u001b[1;33m\u001b[0m\u001b[1;33m\u001b[0m\u001b[0m\n\u001b[0m\u001b[0;32m     60\u001b[0m                 \u001b[1;32mreturn\u001b[0m \u001b[0msubtree\u001b[0m\u001b[1;33m\u001b[0m\u001b[1;33m\u001b[0m\u001b[0m\n\u001b[0;32m     61\u001b[0m             \u001b[1;32melse\u001b[0m\u001b[1;33m:\u001b[0m\u001b[1;33m\u001b[0m\u001b[1;33m\u001b[0m\u001b[0m\n",
      "\u001b[1;32mC:\\ProgramData\\Anaconda3\\lib\\site-packages\\pandas\\core\\generic.py\u001b[0m in \u001b[0;36m__nonzero__\u001b[1;34m(self)\u001b[0m\n\u001b[0;32m   1476\u001b[0m         raise ValueError(\"The truth value of a {0} is ambiguous. \"\n\u001b[0;32m   1477\u001b[0m                          \u001b[1;34m\"Use a.empty, a.bool(), a.item(), a.any() or a.all().\"\u001b[0m\u001b[1;33m\u001b[0m\u001b[1;33m\u001b[0m\u001b[0m\n\u001b[1;32m-> 1478\u001b[1;33m                          .format(self.__class__.__name__))\n\u001b[0m\u001b[0;32m   1479\u001b[0m \u001b[1;33m\u001b[0m\u001b[0m\n\u001b[0;32m   1480\u001b[0m     \u001b[0m__bool__\u001b[0m \u001b[1;33m=\u001b[0m \u001b[0m__nonzero__\u001b[0m\u001b[1;33m\u001b[0m\u001b[1;33m\u001b[0m\u001b[0m\n",
      "\u001b[1;31mValueError\u001b[0m: The truth value of a Series is ambiguous. Use a.empty, a.bool(), a.item(), a.any() or a.all()."
     ]
    }
   ],
   "source": [
    "# you code here\n",
    "from collections import Counter\n",
    "import numpy as np\n",
    "import pandas as pd\n",
    "from icecream import ic\n",
    "import operator\n",
    "\n",
    "#计算信息熵\n",
    "def entropy(elements):\n",
    "    counter = Counter(elements)\n",
    "    probs = [counter[c] / len(elements) for c in set(elements)]\n",
    "    return - sum(p * np.log(p) for p in probs)\n",
    "\n",
    "#计算条件熵，选择最优先特征点\n",
    "def find_the_min_spilter(training_data: pd.DataFrame, target: str) -> str:\n",
    "    x_fields = set(training_data.columns.tolist()) - {target}\n",
    "\n",
    "    spliter = None\n",
    "    min_entropy = float('inf') #正无穷\n",
    "\n",
    "    for f in x_fields:\n",
    "        values = set(training_data[f])\n",
    "        for v in values:\n",
    "            sub_spliter_1 = training_data[training_data[f] == v][target].tolist()\n",
    "            entropy_1 = entropy(sub_spliter_1)\n",
    "            sub_spliter_2 = training_data[training_data[f] != v][target].tolist()\n",
    "            entropy_2 = entropy(sub_spliter_2)\n",
    "            entropy_v = entropy_1 + entropy_2\n",
    "            if entropy_v <= min_entropy:\n",
    "                min_entropy = entropy_v\n",
    "                spliter = (f, v)\n",
    "    return spliter\n",
    "\n",
    "\n",
    "#生成决策树\n",
    "def create_tree(dataset, target):\n",
    "\n",
    "    spliter=find_the_min_spilter(dataset,target)\n",
    "    tree={spliter[0]:{}}\n",
    "\n",
    "    if len(set(dataset[spliter[0]])) == 1:\n",
    "        tree = dataset[dataset[spliter[0]]==spliter[1]][target]\n",
    "        ic(spliter[0])\n",
    "        ic(spliter[1])\n",
    "        ic(dataset[dataset[spliter[0]]==spliter[1]][target])\n",
    "\n",
    "    if len(set(dataset[spliter[0]])) > 1:\n",
    "        for v in set(dataset[spliter[0]]):\n",
    "            sub_data = dataset[dataset[spliter[0]] == v]\n",
    "            tree[spliter[0]][v]=create_tree(sub_data, target)\n",
    "\n",
    "    return tree\n",
    "\n",
    "#预测\n",
    "def predicate(decision_tree, gender, income, family_number):\n",
    "    for key in decision_tree[tuple(decision_tree.keys())[0]].keys():\n",
    "        if key in (gender, income, family_number):\n",
    "            subtree = decision_tree[tuple(decision_tree.keys())[0]][key]\n",
    "            if subtree == 1 or subtree == 0:\n",
    "                return subtree\n",
    "            else:\n",
    "                prdc = predicate(subtree, gender, income, family_number)\n",
    "                return prdc\n",
    "\n",
    "mock_data = {\n",
    "    'gender':['F', 'F', 'F', 'F', 'M', 'M', 'M'],\n",
    "    'income': ['+10', '-10', '+10', '+10', '+10', '+10', '-10'],\n",
    "    'family_number': [1, 1, 2, 1, 3, 1, 2],\n",
    "    'bought': [1, 1, 1, 0, 0, 0, 1],\n",
    "}\n",
    "dataset = pd.DataFrame.from_dict(mock_data)\n",
    "D_tree = create_tree(dataset, 'bought')\n",
    "ic(D_tree)\n",
    "\n",
    "## 遇到一些问题\n",
    "p_1 = predicate(D_tree, 'M', '-10', 1)\n",
    "print(\"p_1\",p_1)\n"
   ]
  },
  {
   "cell_type": "code",
   "execution_count": null,
   "metadata": {},
   "outputs": [],
   "source": []
  },
  {
   "cell_type": "markdown",
   "metadata": {},
   "source": [
    "<评阅点>\n",
    "> + 是否将之前的决策树模型的部分进行合并组装， predicate函数能够顺利运行(8')\n",
    "+ 是够能够输入未曾见过的X变量，例如gender, income, family_number 分别是： <M, -10, 1>, 模型能够预测出结果 (12')"
   ]
  },
  {
   "cell_type": "markdown",
   "metadata": {},
   "source": [
    "2. 将上一节课(第二节课)的线性回归问题中的Loss函数改成\"绝对值\"，并且改变其偏导的求值方式，观察其结果的变化。(19 point)"
   ]
  },
  {
   "cell_type": "code",
   "execution_count": 3,
   "metadata": {},
   "outputs": [],
   "source": [
    "# you code here\n",
    "import matplotlib.pyplot as plt\n",
    "from sklearn.datasets import load_boston\n",
    "import random\n",
    "plt.rcParams['font.sans-serif'] = ['SimHei']\n",
    "plt.rcParams['axes.unicode_minus'] = False"
   ]
  },
  {
   "cell_type": "code",
   "execution_count": 4,
   "metadata": {},
   "outputs": [],
   "source": [
    "#define target function\n",
    "def price(rm, k, b):\n",
    "    return k * rm + b"
   ]
  },
  {
   "cell_type": "markdown",
   "metadata": {},
   "source": [
    "$$ loss = \\frac{1}{n} \\sum{(y_i - \\hat{y_i})}^2 $$\n",
    "$$ loss = \\frac{1}{n} \\sum{(y_i - (kx_i + b_i))}^2 $$"
   ]
  },
  {
   "cell_type": "markdown",
   "metadata": {},
   "source": [
    "$$ \\frac{\\partial{loss}}{\\partial{k}} = -\\frac{2}{n}\\sum(y_i - \\hat{y_i})x_i$$\n",
    "$$ \\frac{\\partial{loss}}{\\partial{b}} = -\\frac{2}{n}\\sum(y_i - \\hat{y_i})$$"
   ]
  },
  {
   "cell_type": "code",
   "execution_count": 5,
   "metadata": {},
   "outputs": [],
   "source": [
    "# 平方损失函数\n",
    "def loss(y,y_hat):\n",
    "    return sum((y_i - y_hat_i)**2 for y_i, y_hat_i in zip(list(y),list(y_hat)))/len(list(y))\n",
    "\n",
    "# 平方损失函数偏导-k\n",
    "def partial_derivative_k(x, y, y_hat):\n",
    "    n = len(y)\n",
    "    gradient = 0\n",
    "    for x_i, y_i, y_hat_i in zip(list(x),list(y),list(y_hat)):\n",
    "        gradient += (y_i-y_hat_i) * x_i\n",
    "    return -2/n * gradient\n",
    "\n",
    "# 平方损失函数偏导-b\n",
    "def partial_derivative_b(y, y_hat):\n",
    "    n = len(y)\n",
    "    gradient = 0\n",
    "    for y_i, y_hat_i in zip(list(y),list(y_hat)):\n",
    "        gradient += (y_i-y_hat_i)\n",
    "    return -2 / n * gradient"
   ]
  },
  {
   "cell_type": "markdown",
   "metadata": {},
   "source": [
    "$$ loss = \\frac{1}{n} \\sum{\\lvert{(y_i - \\hat{y_i})}\\rvert} \n",
    "$$$$ loss = \\frac{1}{n} \\sum{\\lvert{(y_i - (k*x_i + b_i))}\\rvert} $$"
   ]
  },
  {
   "cell_type": "markdown",
   "metadata": {},
   "source": [
    "$$ \\frac{\\partial{loss}}{\\partial{k}} = \\frac{1}{n}\\sum(\\lvert{x_i}\\rvert)$$\n",
    "\n",
    "$$ \\frac{\\partial{loss}}{\\partial{b}} = 1$$"
   ]
  },
  {
   "cell_type": "code",
   "execution_count": 6,
   "metadata": {},
   "outputs": [],
   "source": [
    "#绝对值损失函数\n",
    "def loss_abs(y,y_hat):\n",
    "    return sum(abs(y_i - y_hat_i) for y_i, y_hat_i in zip(list(y), list(y_hat))) / len(list(y))\n",
    "\n",
    "#绝对值损失函数偏导-k\n",
    "def partial_derivative_k_abs(x, y, y_hat):\n",
    "    sum = 0\n",
    "    for x_i, y_i, y_hat_i in zip(list(x), list(y), list(y_hat)):\n",
    "        if y_i >= y_hat_i:\n",
    "            sum -=  x_i\n",
    "        else:\n",
    "            sum +=  x_i\n",
    "    return sum/(len(list(y)))\n",
    "\n",
    "#绝对值损失函数偏导-b\n",
    "def partial_derivative_b_abs(y, y_hat):\n",
    "    sum = 0\n",
    "    for x_i, y_i, y_hat_i in zip(list(x), list(y), list(y_hat)):\n",
    "        if y_i >= y_hat_i:\n",
    "            sum -= 1\n",
    "        else:\n",
    "            sum += 1\n",
    "    return sum / (len(list(y)))"
   ]
  },
  {
   "cell_type": "code",
   "execution_count": 12,
   "metadata": {},
   "outputs": [
    {
     "name": "stdout",
     "output_type": "stream",
     "text": [
      "Iteration 1999, the loss is 53.562827328762694, parameters k is -3 and b is -6\n",
      " \n",
      "Iteration 1999, the loss is 5.208611723371818, parameters k is -3 and b is -6\n"
     ]
    },
    {
     "data": {
      "text/plain": [
       "Text(0.5, 1.0, '绝对值损失函数拟合效果')"
      ]
     },
     "execution_count": 12,
     "metadata": {},
     "output_type": "execute_result"
    },
    {
     "data": {
      "image/png": "[encoded data removed]",
      "text/plain": [
       "<Figure size 432x288 with 1 Axes>"
      ]
     },
     "metadata": {
      "needs_background": "light"
     },
     "output_type": "display_data"
    },
    {
     "data": {
      "image/png": "[encoded data removed]",
      "text/plain": [
       "<Figure size 432x288 with 1 Axes>"
      ]
     },
     "metadata": {
      "needs_background": "light"
     },
     "output_type": "display_data"
    },
    {
     "data": {
      "image/png": "[encoded data removed]",
      "text/plain": [
       "<Figure size 432x288 with 1 Axes>"
      ]
     },
     "metadata": {
      "needs_background": "light"
     },
     "output_type": "display_data"
    },
    {
     "data": {
      "image/png": "[encoded data removed]",
      "text/plain": [
       "<Figure size 432x288 with 1 Axes>"
      ]
     },
     "metadata": {
      "needs_background": "light"
     },
     "output_type": "display_data"
    }
   ],
   "source": [
    "#数据加载\n",
    "dataset = load_boston()\n",
    "x,y=dataset['data'],dataset['target']\n",
    "X_rm = x[:,5]\n",
    "\n",
    "# 初始化\n",
    "k = random.randint(-10, 10)\n",
    "b = random.randint(-10, 10)\n",
    "\n",
    "k_temp = k\n",
    "b_temp = b\n",
    "\n",
    "learning_rate = 1e-3\n",
    "iteration_num = 2000\n",
    "losses = []\n",
    "\n",
    "# MSE\n",
    "for i in range(iteration_num):\n",
    "    price_use_current_parameters = [price(r, k_temp, b_temp) for r in X_rm]  # \\hat{y}\n",
    "\n",
    "    current_loss = loss(y, price_use_current_parameters)\n",
    "    losses.append(current_loss)\n",
    "   # print(\"Iteration {}, the loss is {}, parameters k is {} and b is {}\".format(i,current_loss,k,b))\n",
    "    k_gradient = partial_derivative_k(X_rm, y, price_use_current_parameters)\n",
    "    b_gradient = partial_derivative_b(y, price_use_current_parameters)\n",
    "\n",
    "    # gradient descent\n",
    "    k_temp = k_temp + (-1 * k_gradient) * learning_rate\n",
    "    b_temp = b_temp + (-1 * b_gradient) * learning_rate\n",
    "best_k = k_temp\n",
    "best_b = b_temp\n",
    "print(\"Iteration {}, the loss is {}, parameters k is {} and b is {}\".format(i,current_loss,k,b))\n",
    "\n",
    "plt.figure(1)\n",
    "plt.plot(list(range(iteration_num)),losses)\n",
    "plt.title('平方损失函数')\n",
    "\n",
    "price_use_best_parameters = [price(r, best_k, best_b) for r in X_rm]\n",
    "plt.figure(2)\n",
    "plt.scatter(X_rm,y)\n",
    "plt.scatter(X_rm,price_use_best_parameters)\n",
    "plt.title('平方损失函数拟合效果')\n",
    "print(' ')\n",
    "\n",
    "#绝对值损失函数\n",
    "k_temp = k\n",
    "b_temp = b\n",
    "losses = []\n",
    "for i in range(iteration_num):\n",
    "    price_use_current_parameters = [price(r, k_temp, b_temp) for r in X_rm]  # \\hat{y}\n",
    "\n",
    "    current_loss = loss_abs(y, price_use_current_parameters)\n",
    "    losses.append(current_loss)\n",
    "  #  print(\"Iteration {}, the loss is {}, parameters k is {} and b is {}\".format(i,current_loss,k,b))\n",
    "    k_gradient = partial_derivative_k_abs(X_rm, y, price_use_current_parameters)\n",
    "    b_gradient = partial_derivative_b_abs(y, price_use_current_parameters)\n",
    "\n",
    "    # gradient descent\n",
    "    k_temp = k_temp + (-1 * k_gradient) * learning_rate\n",
    "    b_temp = b_temp + (-1 * b_gradient) * learning_rate\n",
    "best_k = k_temp\n",
    "best_b = b_temp\n",
    "print(\"Iteration {}, the loss is {}, parameters k is {} and b is {}\".format(i,current_loss,k,b))\n",
    "\n",
    "plt.figure(3)\n",
    "plt.plot(list(range(iteration_num)),losses)\n",
    "plt.title('绝对值损失函数')\n",
    "price_use_best_parameters = [price(r, best_k, best_b) for r in X_rm]\n",
    "plt.figure(4)\n",
    "plt.scatter(X_rm,y)\n",
    "plt.scatter(X_rm,price_use_best_parameters)\n",
    "plt.title('绝对值损失函数拟合效果')"
   ]
  },
  {
   "cell_type": "markdown",
   "metadata": {},
   "source": [
    "<评阅点>\n",
    "+ 是否将Loss改成了“绝对值”(3')\n",
    "+ 是否完成了偏导的重新定义(5')\n",
    "+ 新的模型Loss是否能够收敛 (11’)"
   ]
  },
  {
   "cell_type": "markdown",
   "metadata": {},
   "source": []
  }
 ],
 "metadata": {
  "kernelspec": {
   "display_name": "Python 3",
   "language": "python",
   "name": "python3"
  },
  "language_info": {
   "codemirror_mode": {
    "name": "ipython",
    "version": 3
   },
   "file_extension": ".py",
   "mimetype": "text/x-python",
   "name": "python",
   "nbconvert_exporter": "python",
   "pygments_lexer": "ipython3",
   "version": "3.7.3"
  }
 },
 "nbformat": 4,
 "nbformat_minor": 2
}
